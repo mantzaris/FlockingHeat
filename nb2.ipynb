{
 "cells": [
  {
   "cell_type": "code",
   "execution_count": 218,
   "metadata": {},
   "outputs": [],
   "source": [
    "using CairoMakie\n",
    "using Makie\n",
    "\n",
    "using GeometryBasics\n",
    "using Random\n",
    "using LinearAlgebra\n",
    "using Plots\n",
    "using KernelDensity\n",
    "using QuadGK\n",
    "using Interpolations\n",
    "using StatsBase\n",
    "using Statistics\n",
    "using DataFrames\n",
    "using Loess\n",
    "using DataStructures\n",
    "using Measures"
   ]
  },
  {
   "cell_type": "code",
   "execution_count": 286,
   "metadata": {},
   "outputs": [],
   "source": [
    "import Pkg\n",
    "#Pkg.add(\"Agents@5.17.1\")\n",
    "# Pkg.add(PackageSpec(name=\"Agents\", version=\"5.17.1\"))\n",
    "using Agents\n"
   ]
  },
  {
   "cell_type": "code",
   "execution_count": 287,
   "metadata": {},
   "outputs": [
    {
     "name": "stdout",
     "output_type": "stream",
     "text": [
      "Agents.jl version: 5.13.0\n"
     ]
    },
    {
     "name": "stderr",
     "output_type": "stream",
     "text": [
      "\u001b[33m\u001b[1m┌ \u001b[22m\u001b[39m\u001b[33m\u001b[1mWarning: \u001b[22m\u001b[39mPkg.installed() is deprecated\n",
      "\u001b[33m\u001b[1m└ \u001b[22m\u001b[39m\u001b[90m@ Pkg ~/.julia/juliaup/julia-1.10.2+0.x64.linux.gnu/share/julia/stdlib/v1.10/Pkg/src/Pkg.jl:744\u001b[39m\n"
     ]
    }
   ],
   "source": [
    "println(\"Agents.jl version: \", Pkg.installed()[\"Agents\"])"
   ]
  },
  {
   "cell_type": "code",
   "execution_count": 288,
   "metadata": {},
   "outputs": [
    {
     "data": {
      "text/plain": [
       "plot_save (generic function with 1 method)"
      ]
     },
     "execution_count": 288,
     "metadata": {},
     "output_type": "execute_result"
    }
   ],
   "source": [
    "plot_num = 1\n",
    "plot_num_update() = global plot_num += 1\n",
    "plot_num_reset() = global plot_num = 1\n",
    "function plot_save(p) \n",
    "    savefig(p,\"Figure$(plot_num).png\")\n",
    "    savefig(p,\"Figure$(plot_num).pdf\")\n",
    "    plot_num_update()\n",
    "end"
   ]
  },
  {
   "cell_type": "code",
   "execution_count": 289,
   "metadata": {},
   "outputs": [
    {
     "data": {
      "text/plain": [
       "exponential_moving_average (generic function with 1 method)"
      ]
     },
     "execution_count": 289,
     "metadata": {},
     "output_type": "execute_result"
    }
   ],
   "source": [
    "function moving_average(values, window_size)\n",
    "    len = length(values)\n",
    "    smoothed_values = zeros(len)\n",
    "    for i in 1:len\n",
    "        start_index = max(1, i - window_size + 1)\n",
    "        end_index = i\n",
    "        smoothed_values[i] = mean(values[start_index:end_index])\n",
    "    end\n",
    "    return smoothed_values\n",
    "end\n",
    "\n",
    "function exponential_moving_average(values, α)\n",
    "    len = length(values)\n",
    "    EMA = zeros(len)\n",
    "    EMA[1] = values[1]\n",
    "    for i in 2:len\n",
    "        EMA[i] = α * values[i] + (1 - α) * EMA[i-1]\n",
    "    end\n",
    "    return EMA\n",
    "end"
   ]
  },
  {
   "cell_type": "code",
   "execution_count": null,
   "metadata": {},
   "outputs": [],
   "source": []
  },
  {
   "cell_type": "code",
   "execution_count": 290,
   "metadata": {},
   "outputs": [],
   "source": [
    "@agent Bird ContinuousAgent{2} begin\n",
    "    #id, pos, vel (inherited)\n",
    "    speed::Float64 #how far it travels\n",
    "    cohere_factor::Float64 #group cohesion importance\n",
    "    separation::Float64 #minimum distance from neighbors\n",
    "    separate_factor::Float64 #importance of separation maintanence\n",
    "    match_factor::Float64 #importance of maintaining similar trajectories\n",
    "    visual_distance::Float64 #how far agent sees/scan neighbors (radius)\n",
    "    ensemble::Float64 #number of birds in the flock the bird belongs to\n",
    "    ensemble_history::CircularBuffer{Float64}\n",
    "end"
   ]
  },
  {
   "cell_type": "code",
   "execution_count": 291,
   "metadata": {},
   "outputs": [],
   "source": [
    "SEED = 12;"
   ]
  },
  {
   "cell_type": "code",
   "execution_count": 294,
   "metadata": {},
   "outputs": [
    {
     "data": {
      "text/plain": [
       "initialize_model (generic function with 1 method)"
      ]
     },
     "execution_count": 294,
     "metadata": {},
     "output_type": "execute_result"
    }
   ],
   "source": [
    "model_iteration = 0\n",
    "\n",
    "function initialize_model(; n_birds = 40,\n",
    "    speed = 2.0,\n",
    "    cohere_factor = 0.4,\n",
    "    separation = 4.0, separate_factor = 0.25,\n",
    "    match_factor = 0.02,\n",
    "    visual_distance = 5.0,\n",
    "    ensemble = 1,\n",
    "    history_length = 8,\n",
    "    extent = (50, 50), \n",
    "    seed = 1234)\n",
    "    \n",
    "    global model_iteration = 0\n",
    "    \n",
    "    space2d = ContinuousSpace(extent; spacing = visual_distance/1.5)\n",
    "    rng = Random.MersenneTwister(seed)\n",
    "\n",
    "    model = ABM(Bird, space2d; rng=rng, scheduler = Schedulers.Randomly())\n",
    "    \n",
    "    for _ in 1:n_birds\n",
    "        vel = Tuple(rand(rng, 2) * 2 .- 1)\n",
    "        add_agent!(\n",
    "            model,\n",
    "            vel,\n",
    "            speed,\n",
    "            cohere_factor,\n",
    "            separation,\n",
    "            separate_factor,\n",
    "            match_factor,\n",
    "            visual_distance,\n",
    "            ensemble,\n",
    "            CircularBuffer{Float64}(history_length)\n",
    "        )\n",
    "    end\n",
    "    return model\n",
    "end\n"
   ]
  },
  {
   "cell_type": "code",
   "execution_count": 295,
   "metadata": {},
   "outputs": [
    {
     "data": {
      "text/plain": [
       "StandardABM with 40 agents of type Bird\n",
       " agents container: Dict\n",
       " space: periodic continuous space with [50.0, 50.0] extent and spacing=3.3333333333333335\n",
       " scheduler: Agents.Schedulers.Randomly"
      ]
     },
     "execution_count": 295,
     "metadata": {},
     "output_type": "execute_result"
    }
   ],
   "source": [
    "model = initialize_model()"
   ]
  },
  {
   "cell_type": "code",
   "execution_count": null,
   "metadata": {},
   "outputs": [],
   "source": []
  },
  {
   "cell_type": "code",
   "execution_count": 296,
   "metadata": {},
   "outputs": [
    {
     "data": {
      "text/plain": [
       "agent_step! (generic function with 1 method)"
      ]
     },
     "execution_count": 296,
     "metadata": {},
     "output_type": "execute_result"
    }
   ],
   "source": [
    "function agent_step!(bird, model)\n",
    "    # Obtain the ids of neighbors within the bird's visual distance\n",
    "    neighbor_ids = nearby_ids(bird, model, bird.visual_distance)\n",
    "\n",
    "    match = separate = cohere = (0.0, 0.0)\n",
    "    \n",
    "    angle_threshold = 120 * (pi / 180)\n",
    "    bird_speed = norm(bird.vel)\n",
    "    ensemble_count = 0\n",
    "        \n",
    "    for id in neighbor_ids\n",
    "        neighbor = model[id].pos\n",
    "        heading = neighbor .- bird.pos\n",
    "\n",
    "        # `cohere` computes the average position of neighboring birds\n",
    "        cohere = cohere .+ heading\n",
    "\n",
    "        if euclidean_distance(bird.pos, neighbor, model) < bird.separation\n",
    "            # `separate` repels the bird away from neighboring birds\n",
    "            separate = separate .- heading\n",
    "        end\n",
    "        # `match` computes the average trajectory of neighboring birds\n",
    "        match = match .+ model[id].vel\n",
    "        \n",
    "        \n",
    "        neighbor_speed = norm(model[id].speed)        \n",
    "        angle_between = acos(dot(bird.vel, model[id].vel) / (bird_speed * neighbor_speed + 1e-9))  # Adding a small epsilon to avoid division by zero\n",
    "        speed_difference = abs(bird_speed - neighbor_speed) / (bird_speed + 1e-9)  # Adding a small epsilon to avoid division by zero\n",
    "        \n",
    "        if angle_between < angle_threshold #|| (speed_difference < 2 || speed_difference > 0.5)\n",
    "            ensemble_count += 1\n",
    "        end        \n",
    "                \n",
    "    end\n",
    "    \n",
    "    N = max(length(collect(neighbor_ids)), 1)\n",
    "    \n",
    "    # Update the ensemble history\n",
    "    push!(bird.ensemble_history, length(collect(neighbor_ids)))\n",
    "    \n",
    "    bird.ensemble = 1 / (1 + median(bird.ensemble_history))\n",
    "    \n",
    "    # Normalise results based on model input and neighbor count\n",
    "    cohere = cohere ./ N .* bird.cohere_factor\n",
    "    separate = separate ./ N .* bird.separate_factor\n",
    "    \n",
    "    match = match ./ N .* bird.match_factor\n",
    "    # Compute velocity based on rules defined above\n",
    "    bird.vel = (bird.vel .+ cohere .+ separate .+ match) ./ 2\n",
    "    bird.vel = bird.vel ./ norm(bird.vel)\n",
    "    # Move bird according to new velocity and speed\n",
    "    \n",
    "    #bird.ensemble = ensemble_count\n",
    "    \n",
    "    move_agent!(bird, model, bird.speed)\n",
    "end"
   ]
  },
  {
   "cell_type": "code",
   "execution_count": null,
   "metadata": {},
   "outputs": [],
   "source": []
  },
  {
   "cell_type": "code",
   "execution_count": 297,
   "metadata": {},
   "outputs": [
    {
     "data": {
      "text/plain": [
       "Plot_Birds_Iter (generic function with 1 method)"
      ]
     },
     "execution_count": 297,
     "metadata": {},
     "output_type": "execute_result"
    }
   ],
   "source": [
    "bird_polygon = Makie.Polygon(Point2f[(-1, -1), (2, 0), (-1, 1)])\n",
    "\n",
    "function bird_marker(b::Bird)\n",
    "    φ = atan(b.vel[2], b.vel[1]) #+ π/2 + π\n",
    "    rotate_polygon(bird_polygon, φ)\n",
    "end\n",
    "\n",
    "function Plot_Birds_Iter(model, heat_tmp, iteration_tmp)    \n",
    "    title_str = \"E=$heat_tmp at iter=$iteration_tmp\"\n",
    "    figure, = Agents.abmplot(model; am = bird_marker, aspect = 1, \n",
    "                                axis = (; title = title_str, titlesize=20) )\n",
    "    return figure    \n",
    "end\n"
   ]
  },
  {
   "cell_type": "code",
   "execution_count": 298,
   "metadata": {},
   "outputs": [
    {
     "data": {
      "image/png": "[encoded data removed]",
      "text/html": [
       "<img width=600 height=450 style='object-fit: contain; height: auto;' src=\"data:image/png;base64, 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\"/>"
      ]
     },
     "execution_count": 298,
     "metadata": {},
     "output_type": "execute_result"
    }
   ],
   "source": [
    "Plot_Birds_Iter(initialize_model(), 1.23, 1)"
   ]
  },
  {
   "cell_type": "code",
   "execution_count": null,
   "metadata": {},
   "outputs": [],
   "source": []
  },
  {
   "cell_type": "markdown",
   "metadata": {},
   "source": [
    "## Energies\n",
    "\n"
   ]
  },
  {
   "cell_type": "code",
   "execution_count": 299,
   "metadata": {},
   "outputs": [
    {
     "data": {
      "text/plain": [
       "Model_Ensemble_Energy (generic function with 1 method)"
      ]
     },
     "execution_count": 299,
     "metadata": {},
     "output_type": "execute_result"
    }
   ],
   "source": [
    "function Model_Ensemble_Energy(model)\n",
    "    energy = 0\n",
    "    \n",
    "    for bird in allagents(model)        \n",
    "        energy += bird.ensemble\n",
    "    end\n",
    "    \n",
    "    return energy\n",
    "end"
   ]
  },
  {
   "cell_type": "code",
   "execution_count": 300,
   "metadata": {},
   "outputs": [
    {
     "data": {
      "text/plain": [
       "Model_Energy_DistributionFN (generic function with 1 method)"
      ]
     },
     "execution_count": 300,
     "metadata": {},
     "output_type": "execute_result"
    }
   ],
   "source": [
    "function Model_Energy_DistributionFN(model) \n",
    "    energies = []\n",
    "\n",
    "    for bird in allagents(model)\n",
    "        push!(energies, bird.ensemble)\n",
    "    end\n",
    "    \n",
    "    energies_float = float.(energies)\n",
    "\n",
    "    hist = fit(Histogram, energies_float, closed=:left)\n",
    "\n",
    "    total_count = sum(hist.weights)\n",
    "    pdf = hist.weights ./ total_count\n",
    "\n",
    "    # This will include the bin centers (or edges) and the corresponding probabilities\n",
    "    energy_bins = midpoints(hist.edges[1])\n",
    "    energy_distribution = [(e, p) for (e, p) in zip(energy_bins, pdf)]\n",
    "\n",
    "    return energy_distribution\n",
    "end"
   ]
  },
  {
   "cell_type": "code",
   "execution_count": 301,
   "metadata": {},
   "outputs": [
    {
     "data": {
      "text/plain": [
       "Model_Entropy (generic function with 1 method)"
      ]
     },
     "execution_count": 301,
     "metadata": {},
     "output_type": "execute_result"
    }
   ],
   "source": [
    "function Model_Entropy(e_p_array)\n",
    "    S = 0.0\n",
    "\n",
    "    for (e, p) in e_p_array\n",
    "        # Only add to the sum if p is non-zero to avoid log(0)\n",
    "        if p > 0\n",
    "            S -= p * log(p)\n",
    "        end\n",
    "    end\n",
    "\n",
    "    return S  \n",
    "end"
   ]
  },
  {
   "cell_type": "code",
   "execution_count": 302,
   "metadata": {},
   "outputs": [
    {
     "data": {
      "text/plain": [
       "Model_Temperature (generic function with 1 method)"
      ]
     },
     "execution_count": 302,
     "metadata": {},
     "output_type": "execute_result"
    }
   ],
   "source": [
    "# T = -((\\int_{E_min}^{E_max} (dp(E)/dE) * ln(p(E)) dE)^-1 \n",
    "# summation in discrete situation\n",
    "# p(E) the probability distribution of the energies E, and E_min and E_max \n",
    "function Model_Temperature(e_p_array)\n",
    "    sum_result = 0.0\n",
    "    \n",
    "    # Iterate through the e_p_array to approximate the integral using finite differences\n",
    "    for i in 2:length(e_p_array)\n",
    "        E_prev, p_prev = e_p_array[i - 1]\n",
    "        E, p = e_p_array[i]\n",
    "\n",
    "        # Compute the finite difference approximation of dp/dE\n",
    "        delta_E = E - E_prev\n",
    "        dp_dE = (p - p_prev) / delta_E\n",
    "\n",
    "        # Only consider non-zero probabilities to avoid logarithm of zero\n",
    "        if p > 0\n",
    "            sum_result += dp_dE * log(p)\n",
    "        end\n",
    "    end\n",
    "    \n",
    "    # Handle the case where the sum_result is zero to avoid division by zero\n",
    "    if sum_result == 0\n",
    "        return 0  # Return infinity if the sum is zero, indicating a very high temperature\n",
    "    else\n",
    "        T = -1 / sum_result\n",
    "        return abs(T)\n",
    "    end\n",
    "end\n"
   ]
  },
  {
   "cell_type": "code",
   "execution_count": 303,
   "metadata": {},
   "outputs": [
    {
     "data": {
      "text/plain": [
       "Model_Heat (generic function with 1 method)"
      ]
     },
     "execution_count": 303,
     "metadata": {},
     "output_type": "execute_result"
    }
   ],
   "source": [
    "function Model_Heat(S_current, S_prev, T_current)\n",
    "    dS = S_current - S_prev\n",
    "    dQ = abs(T_current) * dS#abs(dS)\n",
    "    return dQ\n",
    "end"
   ]
  },
  {
   "cell_type": "code",
   "execution_count": 304,
   "metadata": {},
   "outputs": [
    {
     "data": {
      "text/plain": [
       "Model_Internal_Energy (generic function with 1 method)"
      ]
     },
     "execution_count": 304,
     "metadata": {},
     "output_type": "execute_result"
    }
   ],
   "source": [
    "flag = false\n",
    "function Model_Internal_Energy( model )\n",
    "    global flag\n",
    "    e_p_array = Model_Energy_DistributionFN(model)\n",
    "    \n",
    "#     flag ? flag=true : println(e_p_array)\n",
    "    \n",
    "    tmp_U = 0 \n",
    "    \n",
    "    for tup in e_p_array\n",
    "        tmp_U += tup[1] * tup[2]\n",
    "    end\n",
    "    \n",
    "    return tmp_U\n",
    "end"
   ]
  },
  {
   "cell_type": "code",
   "execution_count": 305,
   "metadata": {},
   "outputs": [
    {
     "data": {
      "text/plain": [
       "Model_Thermo_State (generic function with 1 method)"
      ]
     },
     "execution_count": 305,
     "metadata": {},
     "output_type": "execute_result"
    }
   ],
   "source": [
    "global S_prev;\n",
    "\n",
    "function Model_Thermo_State(model)\n",
    "    \n",
    "    e_p_array = Model_Energy_DistributionFN(model)\n",
    "    S = Model_Entropy(e_p_array)\n",
    "    T = Model_Temperature(e_p_array)\n",
    "    \n",
    "    dQ = 0;\n",
    "    \n",
    "    if(model_iteration > 0)\n",
    "        dQ = Model_Heat(S, S_prev, T)\n",
    "    end\n",
    "    \n",
    "    global S_prev = S;\n",
    "    \n",
    "    return Dict(\"S\"=>S,\"T\"=>T,\"dQ\"=>dQ, \"e_p_array\"=>e_p_array)\n",
    "end"
   ]
  },
  {
   "cell_type": "code",
   "execution_count": null,
   "metadata": {},
   "outputs": [],
   "source": []
  },
  {
   "cell_type": "code",
   "execution_count": 306,
   "metadata": {},
   "outputs": [
    {
     "data": {
      "text/plain": [
       "Flock_Model_State (generic function with 1 method)"
      ]
     },
     "execution_count": 306,
     "metadata": {},
     "output_type": "execute_result"
    }
   ],
   "source": [
    "function Flock_Model_State(model)\n",
    "    energy = Model_Ensemble_Energy(model)\n",
    "    fig_tmp = Plot_Birds_Iter(model, energy, model_iteration)\n",
    "    return fig_tmp\n",
    "end"
   ]
  },
  {
   "cell_type": "code",
   "execution_count": 307,
   "metadata": {},
   "outputs": [
    {
     "data": {
      "text/plain": [
       "Model_Volume (generic function with 1 method)"
      ]
     },
     "execution_count": 307,
     "metadata": {},
     "output_type": "execute_result"
    }
   ],
   "source": [
    "function Model_Volume( model )\n",
    "#     println(\"baz\")\n",
    "#     birds = allagents(model)\n",
    "    birds = collect(allagents(model))\n",
    "    total_distance = 0.0\n",
    "    count = 0\n",
    "\n",
    "    # Calculate pairwise distances\n",
    "    for i in 1:length(birds)-1\n",
    "        for j in i+1:length(birds)\n",
    "            dist = euclidean_distance(birds[i].pos, birds[j].pos, model)\n",
    "            total_distance += dist\n",
    "            count += 1\n",
    "        end\n",
    "    end\n",
    "\n",
    "    # Compute the average distance\n",
    "    if count > 0\n",
    "        average_distance = total_distance / count\n",
    "    else\n",
    "        average_distance = 0.0\n",
    "    end\n",
    "    \n",
    "    if average_distance > 0 \n",
    "        return 1 / average_distance\n",
    "    else\n",
    "        return 0\n",
    "    end\n",
    "    \n",
    "end"
   ]
  },
  {
   "cell_type": "code",
   "execution_count": 308,
   "metadata": {},
   "outputs": [
    {
     "data": {
      "text/plain": [
       "model_step! (generic function with 1 method)"
      ]
     },
     "execution_count": 308,
     "metadata": {},
     "output_type": "execute_result"
    }
   ],
   "source": [
    "function model_step!(model)\n",
    "    global model_iteration += 1    \n",
    "end"
   ]
  },
  {
   "cell_type": "code",
   "execution_count": 309,
   "metadata": {},
   "outputs": [
    {
     "data": {
      "text/plain": [
       "Step_Num (generic function with 1 method)"
      ]
     },
     "execution_count": 309,
     "metadata": {},
     "output_type": "execute_result"
    }
   ],
   "source": [
    "function Step_Num(model)\n",
    "    return model_iteration \n",
    "end"
   ]
  },
  {
   "cell_type": "code",
   "execution_count": 310,
   "metadata": {},
   "outputs": [
    {
     "ename": "LoadError",
     "evalue": "MethodError: no method matching should_we_collect(::Int64, ::StandardABM{ContinuousSpace{2, true, Float64, typeof(Agents.no_vel_update)}, Bird, Dict{Int64, Bird}, Tuple{DataType}, typeof(dummystep), typeof(dummystep), Agents.Schedulers.Randomly, Nothing, MersenneTwister}, ::Bool)\n\n\u001b[0mClosest candidates are:\n\u001b[0m  should_we_collect(::Any, ::Any, ::Any, \u001b[91m::Function\u001b[39m)\n\u001b[0m\u001b[90m   @\u001b[39m \u001b[36mAgents\u001b[39m \u001b[90m~/.julia/packages/Agents/8JW8b/src/simulations/\u001b[39m\u001b[90m\u001b[4mcollect.jl:197\u001b[24m\u001b[39m\n\u001b[0m  should_we_collect(::Any, ::Any, ::Any, \u001b[91m::AbstractVector\u001b[39m)\n\u001b[0m\u001b[90m   @\u001b[39m \u001b[36mAgents\u001b[39m \u001b[90m~/.julia/packages/Agents/8JW8b/src/simulations/\u001b[39m\u001b[90m\u001b[4mcollect.jl:196\u001b[24m\u001b[39m\n\u001b[0m  should_we_collect(::Any, ::Any, ::Any, \u001b[91m::Real\u001b[39m)\n\u001b[0m\u001b[90m   @\u001b[39m \u001b[36mAgents\u001b[39m \u001b[90m~/.julia/packages/Agents/8JW8b/src/simulations/\u001b[39m\u001b[90m\u001b[4mcollect.jl:195\u001b[24m\u001b[39m\n",
     "output_type": "error",
     "traceback": [
      "MethodError: no method matching should_we_collect(::Int64, ::StandardABM{ContinuousSpace{2, true, Float64, typeof(Agents.no_vel_update)}, Bird, Dict{Int64, Bird}, Tuple{DataType}, typeof(dummystep), typeof(dummystep), Agents.Schedulers.Randomly, Nothing, MersenneTwister}, ::Bool)\n\n\u001b[0mClosest candidates are:\n\u001b[0m  should_we_collect(::Any, ::Any, ::Any, \u001b[91m::Function\u001b[39m)\n\u001b[0m\u001b[90m   @\u001b[39m \u001b[36mAgents\u001b[39m \u001b[90m~/.julia/packages/Agents/8JW8b/src/simulations/\u001b[39m\u001b[90m\u001b[4mcollect.jl:197\u001b[24m\u001b[39m\n\u001b[0m  should_we_collect(::Any, ::Any, ::Any, \u001b[91m::AbstractVector\u001b[39m)\n\u001b[0m\u001b[90m   @\u001b[39m \u001b[36mAgents\u001b[39m \u001b[90m~/.julia/packages/Agents/8JW8b/src/simulations/\u001b[39m\u001b[90m\u001b[4mcollect.jl:196\u001b[24m\u001b[39m\n\u001b[0m  should_we_collect(::Any, ::Any, ::Any, \u001b[91m::Real\u001b[39m)\n\u001b[0m\u001b[90m   @\u001b[39m \u001b[36mAgents\u001b[39m \u001b[90m~/.julia/packages/Agents/8JW8b/src/simulations/\u001b[39m\u001b[90m\u001b[4mcollect.jl:195\u001b[24m\u001b[39m\n",
      "",
      "Stacktrace:",
      " [1] run!(model::StandardABM{ContinuousSpace{2, true, Float64, typeof(Agents.no_vel_update)}, Bird, Dict{Int64, Bird}, Tuple{DataType}, typeof(dummystep), typeof(dummystep), Agents.Schedulers.Randomly, Nothing, MersenneTwister}, agent_step!::typeof(agent_step!), model_step!::typeof(model_step!), n::Int64; when::Bool, when_model::Bool, mdata::Vector{Function}, adata::Vector{Symbol}, obtainer::Function, agents_first::Bool, showprogress::Bool, warn_deprecation::Bool)",
      "   @ Agents ~/.julia/packages/Agents/8JW8b/src/deprecations.jl:0",
      " [2] top-level scope",
      "   @ In[310]:7"
     ]
    }
   ],
   "source": [
    "model = initialize_model()\n",
    "\n",
    "adata = [ :separation, :speed, :ensemble ]\n",
    "mdata = [ Step_Num, Model_Ensemble_Energy, Model_Thermo_State, \n",
    "    Flock_Model_State, Model_Volume, Model_Internal_Energy ]\n",
    "\n",
    "step_num = 150\n",
    "agent_df, model_df = run!(model, agent_step!, model_step!, step_num; adata , mdata);"
   ]
  },
  {
   "cell_type": "code",
   "execution_count": null,
   "metadata": {},
   "outputs": [],
   "source": []
  },
  {
   "cell_type": "code",
   "execution_count": 242,
   "metadata": {},
   "outputs": [
    {
     "ename": "LoadError",
     "evalue": "UndefVarError: `model_df` not defined",
     "output_type": "error",
     "traceback": [
      "UndefVarError: `model_df` not defined",
      "",
      "Stacktrace:",
      " [1] top-level scope",
      "   @ In[242]:1"
     ]
    }
   ],
   "source": [
    "p1 = Plots.plot( model_df[ :, :Model_Ensemble_Energy], title=\"Energy, max=$(40^2)\" )\n",
    "\n",
    "S_vals = model_df[ :, :Model_Thermo_State] .|> x -> x[\"S\"]\n",
    "p2 = Plots.plot( S_vals, title=\"Entropies\" )\n",
    "\n",
    "T_vals = model_df[ :, :Model_Thermo_State] .|> x -> x[\"T\"]\n",
    "p3 = Plots.plot( T_vals, title=\"Temperatures\" )\n",
    "\n",
    "dQ_vals = model_df[ :, :Model_Thermo_State] .|> x -> x[\"dQ\"]\n",
    "p4 = Plots.plot( dQ_vals, title=\"dQ\" )\n",
    "\n",
    "p = Plots.plot(p1,p2,p3,p4, size=(800,600))\n",
    "#savefig(p,\"EnergyEntropyTemperatureHeat.png\")\n",
    "display(p)"
   ]
  },
  {
   "cell_type": "code",
   "execution_count": 243,
   "metadata": {},
   "outputs": [
    {
     "ename": "LoadError",
     "evalue": "UndefVarError: `dQ_vals` not defined",
     "output_type": "error",
     "traceback": [
      "UndefVarError: `dQ_vals` not defined",
      "",
      "Stacktrace:",
      " [1] top-level scope",
      "   @ In[243]:1"
     ]
    }
   ],
   "source": [
    "Plots.plot(cumsum(dQ_vals), title=\"cumsum of dQ\")"
   ]
  },
  {
   "cell_type": "code",
   "execution_count": 244,
   "metadata": {},
   "outputs": [
    {
     "ename": "LoadError",
     "evalue": "UndefVarError: `model_df` not defined",
     "output_type": "error",
     "traceback": [
      "UndefVarError: `model_df` not defined",
      "",
      "Stacktrace:",
      " [1] top-level scope",
      "   @ In[244]:1"
     ]
    }
   ],
   "source": [
    "p = Plots.plot( model_df[ :, :Model_Internal_Energy], title=\"Model Internal Energy\" )\n"
   ]
  },
  {
   "cell_type": "code",
   "execution_count": 245,
   "metadata": {},
   "outputs": [
    {
     "ename": "LoadError",
     "evalue": "UndefVarError: `model_df` not defined",
     "output_type": "error",
     "traceback": [
      "UndefVarError: `model_df` not defined",
      "",
      "Stacktrace:",
      " [1] top-level scope",
      "   @ In[245]:1"
     ]
    }
   ],
   "source": [
    "names(model_df)"
   ]
  },
  {
   "cell_type": "code",
   "execution_count": 246,
   "metadata": {},
   "outputs": [],
   "source": [
    "#model_df[ :, :Model_Volume] .|> x -> x[\"V\"]\n",
    "#names(model_df)"
   ]
  },
  {
   "cell_type": "code",
   "execution_count": 247,
   "metadata": {},
   "outputs": [
    {
     "ename": "LoadError",
     "evalue": "UndefVarError: `model_df` not defined",
     "output_type": "error",
     "traceback": [
      "UndefVarError: `model_df` not defined",
      "",
      "Stacktrace:",
      " [1] top-level scope",
      "   @ In[247]:1"
     ]
    }
   ],
   "source": [
    "p = Plots.plot( model_df[ :, :Model_Volume], title=\"Volume\" )\n"
   ]
  },
  {
   "cell_type": "code",
   "execution_count": 248,
   "metadata": {},
   "outputs": [
    {
     "ename": "LoadError",
     "evalue": "UndefVarError: `model_df` not defined",
     "output_type": "error",
     "traceback": [
      "UndefVarError: `model_df` not defined",
      "",
      "Stacktrace:",
      " [1] top-level scope",
      "   @ In[248]:1"
     ]
    }
   ],
   "source": [
    "e_p_array = model_df[ :, :Model_Thermo_State] .|> x -> x[\"e_p_array\"]\n",
    "e_p_array;"
   ]
  },
  {
   "cell_type": "code",
   "execution_count": 249,
   "metadata": {},
   "outputs": [
    {
     "ename": "LoadError",
     "evalue": "UndefVarError: `e_p_array` not defined",
     "output_type": "error",
     "traceback": [
      "UndefVarError: `e_p_array` not defined",
      "",
      "Stacktrace:",
      " [1] top-level scope",
      "   @ In[249]:1"
     ]
    }
   ],
   "source": [
    "sum( map( x-> x[2], e_p_array[3] ) )"
   ]
  },
  {
   "cell_type": "code",
   "execution_count": 250,
   "metadata": {},
   "outputs": [
    {
     "ename": "LoadError",
     "evalue": "UndefVarError: `model_df` not defined",
     "output_type": "error",
     "traceback": [
      "UndefVarError: `model_df` not defined",
      "",
      "Stacktrace:",
      " [1] top-level scope",
      "   @ In[250]:1"
     ]
    }
   ],
   "source": [
    "ep_tmp = model_df[:, :Model_Thermo_State] .|> x -> x[\"e_p_array\"];"
   ]
  },
  {
   "cell_type": "code",
   "execution_count": 251,
   "metadata": {},
   "outputs": [
    {
     "ename": "LoadError",
     "evalue": "UndefVarError: `model_df` not defined",
     "output_type": "error",
     "traceback": [
      "UndefVarError: `model_df` not defined",
      "",
      "Stacktrace:",
      " [1] top-level scope",
      "   @ In[251]:1"
     ]
    }
   ],
   "source": [
    "e_p_sums = zeros(1, length(model_df[:, :Model_Thermo_State] .|> x -> x[\"e_p_array\"]))\n",
    "e_p_sums = map( x -> [(0,0)], e_p_sums );"
   ]
  },
  {
   "cell_type": "code",
   "execution_count": 252,
   "metadata": {},
   "outputs": [
    {
     "data": {
      "text/plain": [
       "Normalize_E_P_Array (generic function with 1 method)"
      ]
     },
     "execution_count": 252,
     "metadata": {},
     "output_type": "execute_result"
    }
   ],
   "source": [
    "function Merge_E_P_Array(ep_tmp, e_p_sums)\n",
    "    # Initialize a new accumulator for the merged data\n",
    "    new_e_p_array = copy(e_p_sums)\n",
    "    \n",
    "    for i in 1:length(ep_tmp)\n",
    "        # Find matching energy levels and sum their probabilities\n",
    "        for (E, p) in ep_tmp[i]\n",
    "            found = false\n",
    "            for j in 1:length(new_e_p_array[i])\n",
    "                if new_e_p_array[i][j][1] == E\n",
    "                    new_e_p_array[i][j] = (E, new_e_p_array[i][j][2] + p)\n",
    "                    found = true\n",
    "                    break\n",
    "                end\n",
    "            end\n",
    "            # If the energy level is not found, add the new tuple\n",
    "            if !found\n",
    "                push!(new_e_p_array[i], (E, p))\n",
    "            end\n",
    "        end\n",
    "    end\n",
    "    \n",
    "    return new_e_p_array\n",
    "end\n",
    "\n",
    "function Normalize_E_P_Array(e_p_array)\n",
    "    normalized_e_p_array = copy(e_p_array)\n",
    "    for i in 1:length(e_p_array)\n",
    "        total_probability = sum(map(x -> x[2], e_p_array[i]))\n",
    "        if total_probability != 0\n",
    "            normalized_e_p_array[i] = map(x -> (x[1], x[2] / total_probability), e_p_array[i])\n",
    "        end\n",
    "    end\n",
    "    return normalized_e_p_array\n",
    "end"
   ]
  },
  {
   "cell_type": "code",
   "execution_count": null,
   "metadata": {},
   "outputs": [],
   "source": []
  },
  {
   "cell_type": "code",
   "execution_count": 253,
   "metadata": {},
   "outputs": [
    {
     "ename": "LoadError",
     "evalue": "MethodError: no method matching should_we_collect(::Int64, ::StandardABM{ContinuousSpace{2, true, Float64, typeof(Agents.no_vel_update)}, Bird, Dict{Int64, Bird}, Tuple{DataType}, typeof(dummystep), typeof(dummystep), Agents.Schedulers.Randomly, Nothing, MersenneTwister}, ::Bool)\n\n\u001b[0mClosest candidates are:\n\u001b[0m  should_we_collect(::Any, ::Any, ::Any, \u001b[91m::Function\u001b[39m)\n\u001b[0m\u001b[90m   @\u001b[39m \u001b[36mAgents\u001b[39m \u001b[90m~/.julia/packages/Agents/8JW8b/src/simulations/\u001b[39m\u001b[90m\u001b[4mcollect.jl:197\u001b[24m\u001b[39m\n\u001b[0m  should_we_collect(::Any, ::Any, ::Any, \u001b[91m::AbstractVector\u001b[39m)\n\u001b[0m\u001b[90m   @\u001b[39m \u001b[36mAgents\u001b[39m \u001b[90m~/.julia/packages/Agents/8JW8b/src/simulations/\u001b[39m\u001b[90m\u001b[4mcollect.jl:196\u001b[24m\u001b[39m\n\u001b[0m  should_we_collect(::Any, ::Any, ::Any, \u001b[91m::Real\u001b[39m)\n\u001b[0m\u001b[90m   @\u001b[39m \u001b[36mAgents\u001b[39m \u001b[90m~/.julia/packages/Agents/8JW8b/src/simulations/\u001b[39m\u001b[90m\u001b[4mcollect.jl:195\u001b[24m\u001b[39m\n",
     "output_type": "error",
     "traceback": [
      "MethodError: no method matching should_we_collect(::Int64, ::StandardABM{ContinuousSpace{2, true, Float64, typeof(Agents.no_vel_update)}, Bird, Dict{Int64, Bird}, Tuple{DataType}, typeof(dummystep), typeof(dummystep), Agents.Schedulers.Randomly, Nothing, MersenneTwister}, ::Bool)\n\n\u001b[0mClosest candidates are:\n\u001b[0m  should_we_collect(::Any, ::Any, ::Any, \u001b[91m::Function\u001b[39m)\n\u001b[0m\u001b[90m   @\u001b[39m \u001b[36mAgents\u001b[39m \u001b[90m~/.julia/packages/Agents/8JW8b/src/simulations/\u001b[39m\u001b[90m\u001b[4mcollect.jl:197\u001b[24m\u001b[39m\n\u001b[0m  should_we_collect(::Any, ::Any, ::Any, \u001b[91m::AbstractVector\u001b[39m)\n\u001b[0m\u001b[90m   @\u001b[39m \u001b[36mAgents\u001b[39m \u001b[90m~/.julia/packages/Agents/8JW8b/src/simulations/\u001b[39m\u001b[90m\u001b[4mcollect.jl:196\u001b[24m\u001b[39m\n\u001b[0m  should_we_collect(::Any, ::Any, ::Any, \u001b[91m::Real\u001b[39m)\n\u001b[0m\u001b[90m   @\u001b[39m \u001b[36mAgents\u001b[39m \u001b[90m~/.julia/packages/Agents/8JW8b/src/simulations/\u001b[39m\u001b[90m\u001b[4mcollect.jl:195\u001b[24m\u001b[39m\n",
      "",
      "Stacktrace:",
      " [1] run!(model::StandardABM{ContinuousSpace{2, true, Float64, typeof(Agents.no_vel_update)}, Bird, Dict{Int64, Bird}, Tuple{DataType}, typeof(dummystep), typeof(dummystep), Agents.Schedulers.Randomly, Nothing, MersenneTwister}, agent_step!::typeof(agent_step!), model_step!::typeof(model_step!), n::Int64; when::Bool, when_model::Bool, mdata::Vector{Function}, adata::Vector{Symbol}, obtainer::Function, agents_first::Bool, showprogress::Bool, warn_deprecation::Bool)",
      "   @ Agents ~/.julia/packages/Agents/8JW8b/src/deprecations.jl:0",
      " [2] top-level scope",
      "   @ In[253]:10"
     ]
    }
   ],
   "source": [
    "\n",
    "num_simulations = 250\n",
    "step_num = 150\n",
    "adata = [ :separation, :speed, :ensemble ]\n",
    "mdata = [ Step_Num, Model_Ensemble_Energy, Model_Thermo_State, \n",
    "    Flock_Model_State, Model_Volume, Model_Internal_Energy ]\n",
    "\n",
    "# Run the first simulation to initialize accumulators\n",
    "model = initialize_model()\n",
    "agent_df, model_df = run!(model, agent_step!, model_step!, step_num; adata, mdata)\n",
    "\n",
    "energy_sums = copy(model_df[:, :Model_Ensemble_Energy])\n",
    "S_sums = model_df[:, :Model_Thermo_State] .|> x -> x[\"S\"]\n",
    "T_sums = model_df[:, :Model_Thermo_State] .|> x -> x[\"T\"]\n",
    "dQ_sums = model_df[:, :Model_Thermo_State] .|> x -> x[\"dQ\"]\n",
    "\n",
    "V_sums = model_df[:, :Model_Volume]\n",
    "U_sums = model_df[:, :Model_Internal_Energy]\n",
    "\n",
    "e_p_sums = model_df[:, :Model_Thermo_State] .|> x -> x[\"e_p_array\"]\n",
    "\n",
    "\n",
    "for i in 2:num_simulations\n",
    "#     global SEED = num_simulations;\n",
    "    print(\"i=$i, \")\n",
    "    model = initialize_model(seed = i)\n",
    "    agent_df, model_df = run!(model, agent_step!, model_step!, step_num; adata, mdata)\n",
    "\n",
    "    # Check and accumulate values\n",
    "    energy_sums .+= model_df[:, :Model_Ensemble_Energy]\n",
    "    S_sums .+= model_df[:, :Model_Thermo_State] .|> x -> x[\"S\"]\n",
    "    T_sums .+= model_df[:, :Model_Thermo_State] .|> x -> x[\"T\"]\n",
    "    dQ_sums .+= model_df[:, :Model_Thermo_State] .|> x -> x[\"dQ\"]\n",
    "    V_sums .+= model_df[:, :Model_Volume]\n",
    "    U_sums .+= model_df[:, :Model_Internal_Energy]\n",
    "    \n",
    "    ep_tmp = model_df[:, :Model_Thermo_State] .|> x -> x[\"e_p_array\"]\n",
    "    e_p_sums = Merge_E_P_Array(ep_tmp, e_p_sums)\n",
    "    \n",
    "end\n",
    "\n",
    "# Compute averages\n",
    "average_energy = energy_sums / num_simulations\n",
    "average_S = S_sums / num_simulations\n",
    "average_T = T_sums / num_simulations\n",
    "average_V = V_sums / num_simulations\n",
    "average_U = U_sums / num_simulations\n",
    "average_dQ = dQ_sums / num_simulations;\n",
    "\n",
    "average_e_p_array = Normalize_E_P_Array(e_p_sums)\n",
    "\n",
    "plot_num_reset()"
   ]
  },
  {
   "cell_type": "code",
   "execution_count": 254,
   "metadata": {},
   "outputs": [
    {
     "ename": "LoadError",
     "evalue": "UndefVarError: `average_e_p_array` not defined",
     "output_type": "error",
     "traceback": [
      "UndefVarError: `average_e_p_array` not defined",
      ""
     ]
    }
   ],
   "source": [
    "average_e_p_array;"
   ]
  },
  {
   "cell_type": "code",
   "execution_count": 255,
   "metadata": {},
   "outputs": [
    {
     "ename": "LoadError",
     "evalue": "UndefVarError: `average_e_p_array` not defined",
     "output_type": "error",
     "traceback": [
      "UndefVarError: `average_e_p_array` not defined",
      "",
      "Stacktrace:",
      " [1] top-level scope",
      "   @ In[255]:1"
     ]
    }
   ],
   "source": [
    "h1 = histogram( map(x->x[2],average_e_p_array[2]), legend=false, title=\"Energy Distribution, step=5\",\n",
    "                normalize=true)\n",
    "h2 = histogram( map(x->x[2],average_e_p_array[40]), legend=false, title=\"Energy Distribution, step=25\",\n",
    "                normalize=true)\n",
    "p = Plots.plot(h1, h2, size=(800,500), plot_title=\"From $num_simulations simulations\", titlefontsize=14)\n",
    "plot_save(p)\n",
    "display(p)"
   ]
  },
  {
   "cell_type": "code",
   "execution_count": 256,
   "metadata": {},
   "outputs": [
    {
     "ename": "LoadError",
     "evalue": "UndefVarError: `average_energy` not defined",
     "output_type": "error",
     "traceback": [
      "UndefVarError: `average_energy` not defined",
      "",
      "Stacktrace:",
      " [1] top-level scope",
      "   @ In[256]:1"
     ]
    }
   ],
   "source": [
    "p1 = Plots.plot(average_energy[3:end], legend=false, xlabel=\"iteration\", ylabel=\"Energy\")\n",
    "p2 = Plots.plot(average_S[3:end], legend=false, xlabel=\"iteration\", ylabel=\"Entropy\")\n",
    "p3 = Plots.plot(average_T[3:end], legend=false,  xlabel=\"iteration\", ylabel=\"Temperature\")\n",
    "p4 = Plots.plot(average_dQ[3:end], legend=false,  xlabel=\"iteration\", ylabel=\"dQ\")\n",
    "\n",
    "p = Plots.plot(p1, p2, p3, p4, \n",
    "    plot_title=\"Average over $num_simulations simulations\")\n",
    "#savefig(p, \"AverageEnergyEntropyTemperatureHeat.png\")\n",
    "plot_save(p)\n",
    "display(p)"
   ]
  },
  {
   "cell_type": "code",
   "execution_count": 257,
   "metadata": {},
   "outputs": [
    {
     "ename": "LoadError",
     "evalue": "UndefVarError: `average_V` not defined",
     "output_type": "error",
     "traceback": [
      "UndefVarError: `average_V` not defined",
      "",
      "Stacktrace:",
      " [1] top-level scope",
      "   @ In[257]:1"
     ]
    }
   ],
   "source": [
    "p = Plots.plot( average_V[3:end], ylabel=\"average Volume\", legend=false, xlabel=\"iteration\");\n",
    "p3b=p\n",
    "#plot_save(p);\n",
    "display( p )"
   ]
  },
  {
   "cell_type": "code",
   "execution_count": 258,
   "metadata": {},
   "outputs": [
    {
     "ename": "LoadError",
     "evalue": "UndefVarError: `average_U` not defined",
     "output_type": "error",
     "traceback": [
      "UndefVarError: `average_U` not defined",
      "",
      "Stacktrace:",
      " [1] top-level scope",
      "   @ In[258]:1"
     ]
    }
   ],
   "source": [
    "p = Plots.plot( average_U[3:end], ylabel=\"average U\", legend=false, xlabel=\"iteration\");\n",
    "p1b = p\n",
    "#plot_save(p);\n",
    "display( p )"
   ]
  },
  {
   "cell_type": "code",
   "execution_count": 259,
   "metadata": {},
   "outputs": [
    {
     "ename": "LoadError",
     "evalue": "UndefVarError: `average_dQ` not defined",
     "output_type": "error",
     "traceback": [
      "UndefVarError: `average_dQ` not defined",
      "",
      "Stacktrace:",
      " [1] top-level scope",
      "   @ In[259]:1"
     ]
    }
   ],
   "source": [
    "p = Plots.plot(cumsum(average_dQ[3:end]), legend=false,\n",
    "            xlabel=\"iteration\", ylabel=\"dQ Cumulative sum\")\n",
    "p2b = p\n",
    "#savefig(p, \"AverageEnergyEntropyTemperatureHeat.png\")\n",
    "#plot_save(p)\n",
    "display(p)"
   ]
  },
  {
   "cell_type": "code",
   "execution_count": null,
   "metadata": {},
   "outputs": [],
   "source": []
  },
  {
   "cell_type": "code",
   "execution_count": 260,
   "metadata": {},
   "outputs": [
    {
     "ename": "LoadError",
     "evalue": "UndefVarError: `p1b` not defined",
     "output_type": "error",
     "traceback": [
      "UndefVarError: `p1b` not defined",
      "",
      "Stacktrace:",
      " [1] top-level scope",
      "   @ In[260]:1"
     ]
    }
   ],
   "source": [
    "p = Plots.plot(p1b,p2b, layout=grid(1,2), size=(800,400) , margin=2mm )\n",
    "\n",
    "plot_save(p)\n",
    "display(p)"
   ]
  },
  {
   "cell_type": "code",
   "execution_count": null,
   "metadata": {},
   "outputs": [],
   "source": []
  },
  {
   "cell_type": "code",
   "execution_count": 261,
   "metadata": {},
   "outputs": [
    {
     "ename": "LoadError",
     "evalue": "UndefVarError: `average_S` not defined",
     "output_type": "error",
     "traceback": [
      "UndefVarError: `average_S` not defined",
      "",
      "Stacktrace:",
      " [1] top-level scope",
      "   @ In[261]:2"
     ]
    }
   ],
   "source": [
    "#S_vals_smoothed = moving_average(S_vals, 15)\n",
    "smoothed_S_vals = exponential_moving_average(average_S[3:end], 0.1)\n",
    "\n",
    "t = 1:length(average_S[3:end])  # Define the time or step points\n",
    "itp = interpolate(average_S[3:end], BSpline(Cubic(Interpolations.Line(OnGrid()))))  # Create the interpolation object\n",
    "S_vals_spline = [itp[x] for x in t];  # Evaluate the spline at each point"
   ]
  },
  {
   "cell_type": "code",
   "execution_count": 262,
   "metadata": {},
   "outputs": [
    {
     "ename": "LoadError",
     "evalue": "UndefVarError: `smoothed_S_vals` not defined",
     "output_type": "error",
     "traceback": [
      "UndefVarError: `smoothed_S_vals` not defined",
      "",
      "Stacktrace:",
      " [1] top-level scope",
      "   @ In[262]:1"
     ]
    }
   ],
   "source": [
    "p = Plots.plot( [smoothed_S_vals S_vals_spline],\n",
    "    labels=[\"orig\" \"smoothed\"], title=\"Smoothed Entropies Splines\" )\n",
    "#savefig(p,\"SmoothedEntropiesSplines.png\")\n",
    "#plot_save(p)\n",
    "display(p)"
   ]
  },
  {
   "cell_type": "code",
   "execution_count": 263,
   "metadata": {},
   "outputs": [
    {
     "ename": "LoadError",
     "evalue": "UndefVarError: `average_S` not defined",
     "output_type": "error",
     "traceback": [
      "UndefVarError: `average_S` not defined",
      "",
      "Stacktrace:",
      " [1] top-level scope",
      "   @ In[263]:1"
     ]
    }
   ],
   "source": [
    "t = 1:length(average_S[3:end])\n",
    "model = loess(t, average_S[3:end], span=0.3)\n",
    "S_vals_loess = [predict(model, x) for x in t];"
   ]
  },
  {
   "cell_type": "code",
   "execution_count": 264,
   "metadata": {},
   "outputs": [
    {
     "ename": "LoadError",
     "evalue": "UndefVarError: `average_S` not defined",
     "output_type": "error",
     "traceback": [
      "UndefVarError: `average_S` not defined",
      "",
      "Stacktrace:",
      " [1] top-level scope",
      "   @ In[264]:1"
     ]
    }
   ],
   "source": [
    "Plots.plot(t, average_S[3:end], label = \"Original\")\n",
    "p = Plots.plot!(t, S_vals_loess, label = \"Loess fit\", \n",
    "    title=\"Smoothed Entropies LOESS\")\n",
    "\n",
    "#savefig(p,\"SmoothedEntropiesLOESS.png\")\n",
    "#plot_save(p)\n",
    "display(p)"
   ]
  },
  {
   "cell_type": "code",
   "execution_count": 265,
   "metadata": {},
   "outputs": [
    {
     "ename": "LoadError",
     "evalue": "UndefVarError: `average_U` not defined",
     "output_type": "error",
     "traceback": [
      "UndefVarError: `average_U` not defined",
      "",
      "Stacktrace:",
      " [1] top-level scope",
      "   @ In[265]:1"
     ]
    }
   ],
   "source": [
    "t = 1:length(average_U[3:end])\n",
    "model = loess(t, average_U[3:end], span=0.3)\n",
    "U_vals_loess = [predict(model, x) for x in t];\n",
    "\n",
    "Plots.plot(t, average_U[3:end], label = \"Original\")\n",
    "p = Plots.plot!(t, U_vals_loess, label = \"Loess fit\", \n",
    "    title=\"Smoothed U LOESS\")\n",
    "\n",
    "#savefig(p,\"Smoothed_U_LOESS.png\")\n",
    "#plot_save(p)\n",
    "display(p)"
   ]
  },
  {
   "cell_type": "code",
   "execution_count": 266,
   "metadata": {},
   "outputs": [
    {
     "ename": "LoadError",
     "evalue": "UndefVarError: `average_V` not defined",
     "output_type": "error",
     "traceback": [
      "UndefVarError: `average_V` not defined",
      "",
      "Stacktrace:",
      " [1] top-level scope",
      "   @ In[266]:1"
     ]
    }
   ],
   "source": [
    "t = 1:length(average_V[3:end])\n",
    "model = loess(t, average_V[3:end], span=0.3)\n",
    "V_vals_loess = [predict(model, x) for x in t];\n",
    "\n",
    "Plots.plot(t, average_V[3:end], label = \"Original\")\n",
    "p = Plots.plot!(t, V_vals_loess, label = \"Loess fit\", \n",
    "    title=\"Smoothed V LOESS\")\n",
    "\n",
    "#savefig(p,\"Smoothed_V_LOESS.png\")\n",
    "#plot_save(p)\n",
    "display(p)"
   ]
  },
  {
   "cell_type": "code",
   "execution_count": 267,
   "metadata": {},
   "outputs": [
    {
     "ename": "LoadError",
     "evalue": "UndefVarError: `average_e_p_array` not defined",
     "output_type": "error",
     "traceback": [
      "UndefVarError: `average_e_p_array` not defined",
      "",
      "Stacktrace:",
      " [1] top-level scope",
      "   @ In[267]:1"
     ]
    }
   ],
   "source": [
    "temperatures = [Model_Temperature(average_e_p_array[i][3:end]) for i in 3:length(average_e_p_array)];\n",
    "\n",
    "t = 1:length(temperatures)\n",
    "model = loess(t, temperatures, span=0.3)\n",
    "T_vals_loess = [predict(model, x) for x in t];"
   ]
  },
  {
   "cell_type": "code",
   "execution_count": 268,
   "metadata": {},
   "outputs": [
    {
     "ename": "LoadError",
     "evalue": "UndefVarError: `t` not defined",
     "output_type": "error",
     "traceback": [
      "UndefVarError: `t` not defined",
      "",
      "Stacktrace:",
      " [1] top-level scope",
      "   @ In[268]:1"
     ]
    }
   ],
   "source": [
    "Plots.plot(t, temperatures, label = \"Original\")\n",
    "p = Plots.plot!(t, T_vals_loess, label = \"Loess fit\", \n",
    "    title=\"smoothed temperatures LOESS\")\n",
    "\n",
    "#savefig(p,\"SmoothedTemperaturesLOESS.png\")\n",
    "#plot_save(p)\n",
    "display(p)"
   ]
  },
  {
   "cell_type": "code",
   "execution_count": null,
   "metadata": {},
   "outputs": [],
   "source": []
  },
  {
   "cell_type": "code",
   "execution_count": null,
   "metadata": {},
   "outputs": [],
   "source": []
  },
  {
   "cell_type": "code",
   "execution_count": 269,
   "metadata": {},
   "outputs": [
    {
     "ename": "LoadError",
     "evalue": "UndefVarError: `T_vals_loess` not defined",
     "output_type": "error",
     "traceback": [
      "UndefVarError: `T_vals_loess` not defined",
      "",
      "Stacktrace:",
      " [1] top-level scope",
      "   @ ./In[269]:3"
     ]
    }
   ],
   "source": [
    "smoothed_heat = [0.0]  # Initialize with zero for the first step where the previous state is not available\n",
    "\n",
    "for i in 2:length(T_vals_loess)\n",
    "    dS = S_vals_loess[i] - S_vals_loess[i - 1]\n",
    "    dQ = Model_Heat(S_vals_loess[i], S_vals_loess[i - 1], T_vals_loess[i])\n",
    "    push!(smoothed_heat, dQ)\n",
    "end"
   ]
  },
  {
   "cell_type": "code",
   "execution_count": 270,
   "metadata": {},
   "outputs": [
    {
     "ename": "LoadError",
     "evalue": "UndefVarError: `T_vals_loess` not defined",
     "output_type": "error",
     "traceback": [
      "UndefVarError: `T_vals_loess` not defined",
      "",
      "Stacktrace:",
      " [1] top-level scope",
      "   @ In[270]:2"
     ]
    }
   ],
   "source": [
    "p1 = Plots.plot(smoothed_heat[2:end], title=\"heat\")\n",
    "p2 = Plots.plot(T_vals_loess, title=\"temp\")\n",
    "p = Plots.plot(p1,p2,  plot_title=\"loess Temperatures and Heat\")\n",
    "\n",
    "#savefig(p,\"SmoothedLOESStemperaturesHeat.png\")\n",
    "#plot_save(p)\n",
    "display(p)"
   ]
  },
  {
   "cell_type": "code",
   "execution_count": null,
   "metadata": {},
   "outputs": [],
   "source": []
  },
  {
   "cell_type": "code",
   "execution_count": 271,
   "metadata": {},
   "outputs": [
    {
     "data": {
      "text/plain": [
       "smooth_distributions (generic function with 1 method)"
      ]
     },
     "execution_count": 271,
     "metadata": {},
     "output_type": "execute_result"
    }
   ],
   "source": [
    "function smooth_distributions(e_p_array, window_size)\n",
    "    smoothed_distributions = []\n",
    "\n",
    "    for i in 1:length(e_p_array)\n",
    "        # Determine the range of indices to include in the smoothing\n",
    "        start_idx = max(1, i - window_size + 1)\n",
    "        end_idx = i\n",
    "        window = e_p_array[start_idx:end_idx]\n",
    "\n",
    "        # Aggregate all energy levels present in the window\n",
    "        all_energies = sort(union([pair[1] for dist in window for pair in dist]))\n",
    "\n",
    "        # Initialize a dictionary to accumulate probabilities for each energy level\n",
    "        energy_prob_accum = Dict((e, 0.0) for e in all_energies)\n",
    "\n",
    "        # Sum probabilities for each energy level across the distributions in the window\n",
    "        for dist in window\n",
    "            for (e, p) in dist\n",
    "                energy_prob_accum[e] += p / length(window)  # Average contribution from each distribution\n",
    "            end\n",
    "        end\n",
    "\n",
    "        # Normalize the distribution\n",
    "        total_prob = sum(values(energy_prob_accum))\n",
    "        if total_prob > 0\n",
    "            normalized_dist = [(e, p / total_prob) for (e, p) in energy_prob_accum]\n",
    "        else\n",
    "            normalized_dist = [(e, 0) for e in all_energies]  # Handle the case of total_prob being 0\n",
    "        end\n",
    "\n",
    "        push!(smoothed_distributions, normalized_dist)\n",
    "    end\n",
    "\n",
    "    return smoothed_distributions\n",
    "end\n"
   ]
  },
  {
   "cell_type": "code",
   "execution_count": null,
   "metadata": {},
   "outputs": [],
   "source": []
  },
  {
   "cell_type": "code",
   "execution_count": 272,
   "metadata": {},
   "outputs": [
    {
     "ename": "LoadError",
     "evalue": "UndefVarError: `average_e_p_array` not defined",
     "output_type": "error",
     "traceback": [
      "UndefVarError: `average_e_p_array` not defined",
      "",
      "Stacktrace:",
      " [1] top-level scope",
      "   @ In[272]:1"
     ]
    }
   ],
   "source": [
    "smoothed_e_p_array = smooth_distributions(average_e_p_array[3:end], 10);"
   ]
  },
  {
   "cell_type": "code",
   "execution_count": 273,
   "metadata": {},
   "outputs": [
    {
     "ename": "LoadError",
     "evalue": "UndefVarError: `smoothed_e_p_array` not defined",
     "output_type": "error",
     "traceback": [
      "UndefVarError: `smoothed_e_p_array` not defined",
      "",
      "Stacktrace:",
      " [1] top-level scope",
      "   @ In[273]:1"
     ]
    }
   ],
   "source": [
    "smoothed_temperatures = [Model_Temperature(smoothed_dist) for smoothed_dist in smoothed_e_p_array];"
   ]
  },
  {
   "cell_type": "code",
   "execution_count": 274,
   "metadata": {},
   "outputs": [
    {
     "ename": "LoadError",
     "evalue": "UndefVarError: `smoothed_temperatures` not defined",
     "output_type": "error",
     "traceback": [
      "UndefVarError: `smoothed_temperatures` not defined",
      "",
      "Stacktrace:",
      " [1] top-level scope",
      "   @ ./In[274]:3"
     ]
    }
   ],
   "source": [
    "smoothed_heat = [0.0]  # Initialize with zero for the first step where the previous state is not available\n",
    "\n",
    "for i in 2:length(smoothed_temperatures)\n",
    "    dS = S_vals_loess[i] - S_vals_loess[i - 1]\n",
    "    dQ = Model_Heat(S_vals_loess[i], S_vals_loess[i - 1], smoothed_temperatures[i])\n",
    "    push!(smoothed_heat, dQ)\n",
    "end"
   ]
  },
  {
   "cell_type": "code",
   "execution_count": 275,
   "metadata": {},
   "outputs": [
    {
     "ename": "LoadError",
     "evalue": "UndefVarError: `smoothed_temperatures` not defined",
     "output_type": "error",
     "traceback": [
      "UndefVarError: `smoothed_temperatures` not defined",
      "",
      "Stacktrace:",
      " [1] top-level scope",
      "   @ In[275]:1"
     ]
    }
   ],
   "source": [
    "Plots.plot( smoothed_temperatures )\n",
    "Plots.plot!(smoothed_heat)"
   ]
  },
  {
   "cell_type": "code",
   "execution_count": null,
   "metadata": {},
   "outputs": [],
   "source": []
  },
  {
   "cell_type": "markdown",
   "metadata": {},
   "source": [
    "## PRESSURE\n",
    "\n",
    "use the 1st law of thermodynamics, the pressure is:\n",
    "\n",
    "$ \\frac{(T \\times dS - dU)}{dV} $\n",
    "\n",
    "Volume: "
   ]
  },
  {
   "cell_type": "code",
   "execution_count": 276,
   "metadata": {},
   "outputs": [
    {
     "ename": "LoadError",
     "evalue": "UndefVarError: `S_vals_loess` not defined",
     "output_type": "error",
     "traceback": [
      "UndefVarError: `S_vals_loess` not defined",
      "",
      "Stacktrace:",
      " [1] top-level scope",
      "   @ ./In[276]:4"
     ]
    }
   ],
   "source": [
    "\n",
    "P = []\n",
    "\n",
    "for i in (3+1):length(S_vals_loess)\n",
    "    dS = S_vals_loess[i] - S_vals_loess[i-1]\n",
    "    dU = U_vals_loess[i] - U_vals_loess[i-1]\n",
    "    dV = average_V[i] - average_V[i-1]\n",
    "    \n",
    "    p_tmp = (T_vals_loess[i] * dS - dU) / dV\n",
    "    \n",
    "    push!(P, p_tmp)\n",
    "end"
   ]
  },
  {
   "cell_type": "code",
   "execution_count": 277,
   "metadata": {},
   "outputs": [
    {
     "data": {
      "image/svg+xml": [
       "<?xml version=\"1.0\" encoding=\"utf-8\"?>\n",
       "<svg xmlns=\"http://www.w3.org/2000/svg\" xmlns:xlink=\"http://www.w3.org/1999/xlink\" width=\"600\" height=\"400\" viewBox=\"0 0 2400 1600\">\n",
       "<defs>\n",
       "  <clipPath id=\"clip340\">\n",
       "    <rect x=\"0\" y=\"0\" width=\"2400\" height=\"1600\"/>\n",
       "  </clipPath>\n",
       "</defs>\n",
       "<path clip-path=\"url(#clip340)\" d=\"M0 1600 L2400 1600 L2400 0 L0 0  Z\" fill=\"#ffffff\" fill-rule=\"evenodd\" fill-opacity=\"1\"/>\n",
       "<defs>\n",
       "  <clipPath id=\"clip341\">\n",
       "    <rect x=\"480\" y=\"0\" width=\"1681\" height=\"1600\"/>\n",
       "  </clipPath>\n",
       "</defs>\n",
       "<path clip-path=\"url(#clip340)\" d=\"M249.542 1423.18 L2352.76 1423.18 L2352.76 47.2441 L249.542 47.2441  Z\" fill=\"#ffffff\" fill-rule=\"evenodd\" fill-opacity=\"1\"/>\n",
       "<defs>\n",
       "  <clipPath id=\"clip342\">\n",
       "    <rect x=\"249\" y=\"47\" width=\"2104\" height=\"1377\"/>\n",
       "  </clipPath>\n",
       "</defs>\n",
       "<polyline clip-path=\"url(#clip342)\" style=\"stroke:#000000; stroke-linecap:round; stroke-linejoin:round; stroke-width:2; stroke-opacity:0.1; fill:none\" points=\"309.067,1423.18 309.067,47.2441 \"/>\n",
       "<polyline clip-path=\"url(#clip342)\" style=\"stroke:#000000; stroke-linecap:round; stroke-linejoin:round; stroke-width:2; stroke-opacity:0.1; fill:none\" points=\"805.108,1423.18 805.108,47.2441 \"/>\n",
       "<polyline clip-path=\"url(#clip342)\" style=\"stroke:#000000; stroke-linecap:round; stroke-linejoin:round; stroke-width:2; stroke-opacity:0.1; fill:none\" points=\"1301.15,1423.18 1301.15,47.2441 \"/>\n",
       "<polyline clip-path=\"url(#clip342)\" style=\"stroke:#000000; stroke-linecap:round; stroke-linejoin:round; stroke-width:2; stroke-opacity:0.1; fill:none\" points=\"1797.19,1423.18 1797.19,47.2441 \"/>\n",
       "<polyline clip-path=\"url(#clip342)\" style=\"stroke:#000000; stroke-linecap:round; stroke-linejoin:round; stroke-width:2; stroke-opacity:0.1; fill:none\" points=\"2293.23,1423.18 2293.23,47.2441 \"/>\n",
       "<polyline clip-path=\"url(#clip340)\" style=\"stroke:#000000; stroke-linecap:round; stroke-linejoin:round; stroke-width:4; stroke-opacity:1; fill:none\" points=\"249.542,1423.18 2352.76,1423.18 \"/>\n",
       "<polyline clip-path=\"url(#clip340)\" style=\"stroke:#000000; stroke-linecap:round; stroke-linejoin:round; stroke-width:4; stroke-opacity:1; fill:none\" points=\"309.067,1423.18 309.067,1404.28 \"/>\n",
       "<polyline clip-path=\"url(#clip340)\" style=\"stroke:#000000; stroke-linecap:round; stroke-linejoin:round; stroke-width:4; stroke-opacity:1; fill:none\" points=\"805.108,1423.18 805.108,1404.28 \"/>\n",
       "<polyline clip-path=\"url(#clip340)\" style=\"stroke:#000000; stroke-linecap:round; stroke-linejoin:round; stroke-width:4; stroke-opacity:1; fill:none\" points=\"1301.15,1423.18 1301.15,1404.28 \"/>\n",
       "<polyline clip-path=\"url(#clip340)\" style=\"stroke:#000000; stroke-linecap:round; stroke-linejoin:round; stroke-width:4; stroke-opacity:1; fill:none\" points=\"1797.19,1423.18 1797.19,1404.28 \"/>\n",
       "<polyline clip-path=\"url(#clip340)\" style=\"stroke:#000000; stroke-linecap:round; stroke-linejoin:round; stroke-width:4; stroke-opacity:1; fill:none\" points=\"2293.23,1423.18 2293.23,1404.28 \"/>\n",
       "<path clip-path=\"url(#clip340)\" d=\"M271.37 1454.1 Q267.759 1454.1 265.931 1457.66 Q264.125 1461.2 264.125 1468.33 Q264.125 1475.44 265.931 1479.01 Q267.759 1482.55 271.37 1482.55 Q275.005 1482.55 276.81 1479.01 Q278.639 1475.44 278.639 1468.33 Q278.639 1461.2 276.81 1457.66 Q275.005 1454.1 271.37 1454.1 M271.37 1450.39 Q277.181 1450.39 280.236 1455 Q283.315 1459.58 283.315 1468.33 Q283.315 1477.06 280.236 1481.67 Q277.181 1486.25 271.37 1486.25 Q265.56 1486.25 262.482 1481.67 Q259.426 1477.06 259.426 1468.33 Q259.426 1459.58 262.482 1455 Q265.56 1450.39 271.37 1450.39 Z\" fill=\"#000000\" fill-rule=\"nonzero\" fill-opacity=\"1\" /><path clip-path=\"url(#clip340)\" d=\"M291.532 1479.7 L296.417 1479.7 L296.417 1485.58 L291.532 1485.58 L291.532 1479.7 Z\" fill=\"#000000\" fill-rule=\"nonzero\" fill-opacity=\"1\" /><path clip-path=\"url(#clip340)\" d=\"M316.602 1454.1 Q312.991 1454.1 311.162 1457.66 Q309.356 1461.2 309.356 1468.33 Q309.356 1475.44 311.162 1479.01 Q312.991 1482.55 316.602 1482.55 Q320.236 1482.55 322.041 1479.01 Q323.87 1475.44 323.87 1468.33 Q323.87 1461.2 322.041 1457.66 Q320.236 1454.1 316.602 1454.1 M316.602 1450.39 Q322.412 1450.39 325.467 1455 Q328.546 1459.58 328.546 1468.33 Q328.546 1477.06 325.467 1481.67 Q322.412 1486.25 316.602 1486.25 Q310.791 1486.25 307.713 1481.67 Q304.657 1477.06 304.657 1468.33 Q304.657 1459.58 307.713 1455 Q310.791 1450.39 316.602 1450.39 Z\" fill=\"#000000\" fill-rule=\"nonzero\" fill-opacity=\"1\" /><path clip-path=\"url(#clip340)\" d=\"M346.764 1454.1 Q343.152 1454.1 341.324 1457.66 Q339.518 1461.2 339.518 1468.33 Q339.518 1475.44 341.324 1479.01 Q343.152 1482.55 346.764 1482.55 Q350.398 1482.55 352.203 1479.01 Q354.032 1475.44 354.032 1468.33 Q354.032 1461.2 352.203 1457.66 Q350.398 1454.1 346.764 1454.1 M346.764 1450.39 Q352.574 1450.39 355.629 1455 Q358.708 1459.58 358.708 1468.33 Q358.708 1477.06 355.629 1481.67 Q352.574 1486.25 346.764 1486.25 Q340.953 1486.25 337.875 1481.67 Q334.819 1477.06 334.819 1468.33 Q334.819 1459.58 337.875 1455 Q340.953 1450.39 346.764 1450.39 Z\" fill=\"#000000\" fill-rule=\"nonzero\" fill-opacity=\"1\" /><path clip-path=\"url(#clip340)\" d=\"M767.909 1454.1 Q764.298 1454.1 762.469 1457.66 Q760.664 1461.2 760.664 1468.33 Q760.664 1475.44 762.469 1479.01 Q764.298 1482.55 767.909 1482.55 Q771.543 1482.55 773.349 1479.01 Q775.178 1475.44 775.178 1468.33 Q775.178 1461.2 773.349 1457.66 Q771.543 1454.1 767.909 1454.1 M767.909 1450.39 Q773.719 1450.39 776.775 1455 Q779.853 1459.58 779.853 1468.33 Q779.853 1477.06 776.775 1481.67 Q773.719 1486.25 767.909 1486.25 Q762.099 1486.25 759.02 1481.67 Q755.965 1477.06 755.965 1468.33 Q755.965 1459.58 759.02 1455 Q762.099 1450.39 767.909 1450.39 Z\" fill=\"#000000\" fill-rule=\"nonzero\" fill-opacity=\"1\" /><path clip-path=\"url(#clip340)\" d=\"M788.071 1479.7 L792.955 1479.7 L792.955 1485.58 L788.071 1485.58 L788.071 1479.7 Z\" fill=\"#000000\" fill-rule=\"nonzero\" fill-opacity=\"1\" /><path clip-path=\"url(#clip340)\" d=\"M807.168 1481.64 L823.487 1481.64 L823.487 1485.58 L801.543 1485.58 L801.543 1481.64 Q804.205 1478.89 808.788 1474.26 Q813.395 1469.61 814.576 1468.27 Q816.821 1465.74 817.7 1464.01 Q818.603 1462.25 818.603 1460.56 Q818.603 1457.8 816.659 1456.07 Q814.738 1454.33 811.636 1454.33 Q809.437 1454.33 806.983 1455.09 Q804.552 1455.86 801.775 1457.41 L801.775 1452.69 Q804.599 1451.55 807.052 1450.97 Q809.506 1450.39 811.543 1450.39 Q816.913 1450.39 820.108 1453.08 Q823.302 1455.77 823.302 1460.26 Q823.302 1462.39 822.492 1464.31 Q821.705 1466.2 819.599 1468.8 Q819.02 1469.47 815.918 1472.69 Q812.816 1475.88 807.168 1481.64 Z\" fill=\"#000000\" fill-rule=\"nonzero\" fill-opacity=\"1\" /><path clip-path=\"url(#clip340)\" d=\"M833.349 1451.02 L851.705 1451.02 L851.705 1454.96 L837.631 1454.96 L837.631 1463.43 Q838.649 1463.08 839.668 1462.92 Q840.686 1462.73 841.705 1462.73 Q847.492 1462.73 850.872 1465.9 Q854.251 1469.08 854.251 1474.49 Q854.251 1480.07 850.779 1483.17 Q847.307 1486.25 840.987 1486.25 Q838.811 1486.25 836.543 1485.88 Q834.298 1485.51 831.89 1484.77 L831.89 1480.07 Q833.974 1481.2 836.196 1481.76 Q838.418 1482.32 840.895 1482.32 Q844.899 1482.32 847.237 1480.21 Q849.575 1478.1 849.575 1474.49 Q849.575 1470.88 847.237 1468.77 Q844.899 1466.67 840.895 1466.67 Q839.02 1466.67 837.145 1467.08 Q835.293 1467.5 833.349 1468.38 L833.349 1451.02 Z\" fill=\"#000000\" fill-rule=\"nonzero\" fill-opacity=\"1\" /><path clip-path=\"url(#clip340)\" d=\"M1263.45 1454.1 Q1259.84 1454.1 1258.01 1457.66 Q1256.21 1461.2 1256.21 1468.33 Q1256.21 1475.44 1258.01 1479.01 Q1259.84 1482.55 1263.45 1482.55 Q1267.09 1482.55 1268.89 1479.01 Q1270.72 1475.44 1270.72 1468.33 Q1270.72 1461.2 1268.89 1457.66 Q1267.09 1454.1 1263.45 1454.1 M1263.45 1450.39 Q1269.26 1450.39 1272.32 1455 Q1275.4 1459.58 1275.4 1468.33 Q1275.4 1477.06 1272.32 1481.67 Q1269.26 1486.25 1263.45 1486.25 Q1257.64 1486.25 1254.56 1481.67 Q1251.51 1477.06 1251.51 1468.33 Q1251.51 1459.58 1254.56 1455 Q1257.64 1450.39 1263.45 1450.39 Z\" fill=\"#000000\" fill-rule=\"nonzero\" fill-opacity=\"1\" /><path clip-path=\"url(#clip340)\" d=\"M1283.61 1479.7 L1288.5 1479.7 L1288.5 1485.58 L1283.61 1485.58 L1283.61 1479.7 Z\" fill=\"#000000\" fill-rule=\"nonzero\" fill-opacity=\"1\" /><path clip-path=\"url(#clip340)\" d=\"M1298.73 1451.02 L1317.09 1451.02 L1317.09 1454.96 L1303.01 1454.96 L1303.01 1463.43 Q1304.03 1463.08 1305.05 1462.92 Q1306.07 1462.73 1307.09 1462.73 Q1312.87 1462.73 1316.25 1465.9 Q1319.63 1469.08 1319.63 1474.49 Q1319.63 1480.07 1316.16 1483.17 Q1312.69 1486.25 1306.37 1486.25 Q1304.19 1486.25 1301.92 1485.88 Q1299.68 1485.51 1297.27 1484.77 L1297.27 1480.07 Q1299.35 1481.2 1301.58 1481.76 Q1303.8 1482.32 1306.28 1482.32 Q1310.28 1482.32 1312.62 1480.21 Q1314.96 1478.1 1314.96 1474.49 Q1314.96 1470.88 1312.62 1468.77 Q1310.28 1466.67 1306.28 1466.67 Q1304.4 1466.67 1302.53 1467.08 Q1300.67 1467.5 1298.73 1468.38 L1298.73 1451.02 Z\" fill=\"#000000\" fill-rule=\"nonzero\" fill-opacity=\"1\" /><path clip-path=\"url(#clip340)\" d=\"M1338.85 1454.1 Q1335.23 1454.1 1333.41 1457.66 Q1331.6 1461.2 1331.6 1468.33 Q1331.6 1475.44 1333.41 1479.01 Q1335.23 1482.55 1338.85 1482.55 Q1342.48 1482.55 1344.29 1479.01 Q1346.11 1475.44 1346.11 1468.33 Q1346.11 1461.2 1344.29 1457.66 Q1342.48 1454.1 1338.85 1454.1 M1338.85 1450.39 Q1344.66 1450.39 1347.71 1455 Q1350.79 1459.58 1350.79 1468.33 Q1350.79 1477.06 1347.71 1481.67 Q1344.66 1486.25 1338.85 1486.25 Q1333.04 1486.25 1329.96 1481.67 Q1326.9 1477.06 1326.9 1468.33 Q1326.9 1459.58 1329.96 1455 Q1333.04 1450.39 1338.85 1450.39 Z\" fill=\"#000000\" fill-rule=\"nonzero\" fill-opacity=\"1\" /><path clip-path=\"url(#clip340)\" d=\"M1759.99 1454.1 Q1756.38 1454.1 1754.55 1457.66 Q1752.75 1461.2 1752.75 1468.33 Q1752.75 1475.44 1754.55 1479.01 Q1756.38 1482.55 1759.99 1482.55 Q1763.63 1482.55 1765.43 1479.01 Q1767.26 1475.44 1767.26 1468.33 Q1767.26 1461.2 1765.43 1457.66 Q1763.63 1454.1 1759.99 1454.1 M1759.99 1450.39 Q1765.8 1450.39 1768.86 1455 Q1771.94 1459.58 1771.94 1468.33 Q1771.94 1477.06 1768.86 1481.67 Q1765.8 1486.25 1759.99 1486.25 Q1754.18 1486.25 1751.1 1481.67 Q1748.05 1477.06 1748.05 1468.33 Q1748.05 1459.58 1751.1 1455 Q1754.18 1450.39 1759.99 1450.39 Z\" fill=\"#000000\" fill-rule=\"nonzero\" fill-opacity=\"1\" /><path clip-path=\"url(#clip340)\" d=\"M1780.15 1479.7 L1785.04 1479.7 L1785.04 1485.58 L1780.15 1485.58 L1780.15 1479.7 Z\" fill=\"#000000\" fill-rule=\"nonzero\" fill-opacity=\"1\" /><path clip-path=\"url(#clip340)\" d=\"M1794.04 1451.02 L1816.26 1451.02 L1816.26 1453.01 L1803.72 1485.58 L1798.83 1485.58 L1810.64 1454.96 L1794.04 1454.96 L1794.04 1451.02 Z\" fill=\"#000000\" fill-rule=\"nonzero\" fill-opacity=\"1\" /><path clip-path=\"url(#clip340)\" d=\"M1825.43 1451.02 L1843.79 1451.02 L1843.79 1454.96 L1829.71 1454.96 L1829.71 1463.43 Q1830.73 1463.08 1831.75 1462.92 Q1832.77 1462.73 1833.79 1462.73 Q1839.57 1462.73 1842.95 1465.9 Q1846.33 1469.08 1846.33 1474.49 Q1846.33 1480.07 1842.86 1483.17 Q1839.39 1486.25 1833.07 1486.25 Q1830.89 1486.25 1828.62 1485.88 Q1826.38 1485.51 1823.97 1484.77 L1823.97 1480.07 Q1826.06 1481.2 1828.28 1481.76 Q1830.5 1482.32 1832.98 1482.32 Q1836.98 1482.32 1839.32 1480.21 Q1841.66 1478.1 1841.66 1474.49 Q1841.66 1470.88 1839.32 1468.77 Q1836.98 1466.67 1832.98 1466.67 Q1831.1 1466.67 1829.23 1467.08 Q1827.38 1467.5 1825.43 1468.38 L1825.43 1451.02 Z\" fill=\"#000000\" fill-rule=\"nonzero\" fill-opacity=\"1\" /><path clip-path=\"url(#clip340)\" d=\"M2245.3 1481.64 L2252.94 1481.64 L2252.94 1455.28 L2244.63 1456.95 L2244.63 1452.69 L2252.9 1451.02 L2257.57 1451.02 L2257.57 1481.64 L2265.21 1481.64 L2265.21 1485.58 L2245.3 1485.58 L2245.3 1481.64 Z\" fill=\"#000000\" fill-rule=\"nonzero\" fill-opacity=\"1\" /><path clip-path=\"url(#clip340)\" d=\"M2274.65 1479.7 L2279.54 1479.7 L2279.54 1485.58 L2274.65 1485.58 L2274.65 1479.7 Z\" fill=\"#000000\" fill-rule=\"nonzero\" fill-opacity=\"1\" /><path clip-path=\"url(#clip340)\" d=\"M2299.72 1454.1 Q2296.11 1454.1 2294.28 1457.66 Q2292.48 1461.2 2292.48 1468.33 Q2292.48 1475.44 2294.28 1479.01 Q2296.11 1482.55 2299.72 1482.55 Q2303.36 1482.55 2305.16 1479.01 Q2306.99 1475.44 2306.99 1468.33 Q2306.99 1461.2 2305.16 1457.66 Q2303.36 1454.1 2299.72 1454.1 M2299.72 1450.39 Q2305.53 1450.39 2308.59 1455 Q2311.67 1459.58 2311.67 1468.33 Q2311.67 1477.06 2308.59 1481.67 Q2305.53 1486.25 2299.72 1486.25 Q2293.91 1486.25 2290.84 1481.67 Q2287.78 1477.06 2287.78 1468.33 Q2287.78 1459.58 2290.84 1455 Q2293.91 1450.39 2299.72 1450.39 Z\" fill=\"#000000\" fill-rule=\"nonzero\" fill-opacity=\"1\" /><path clip-path=\"url(#clip340)\" d=\"M2329.89 1454.1 Q2326.27 1454.1 2324.45 1457.66 Q2322.64 1461.2 2322.64 1468.33 Q2322.64 1475.44 2324.45 1479.01 Q2326.27 1482.55 2329.89 1482.55 Q2333.52 1482.55 2335.33 1479.01 Q2337.15 1475.44 2337.15 1468.33 Q2337.15 1461.2 2335.33 1457.66 Q2333.52 1454.1 2329.89 1454.1 M2329.89 1450.39 Q2335.7 1450.39 2338.75 1455 Q2341.83 1459.58 2341.83 1468.33 Q2341.83 1477.06 2338.75 1481.67 Q2335.7 1486.25 2329.89 1486.25 Q2324.08 1486.25 2321 1481.67 Q2317.94 1477.06 2317.94 1468.33 Q2317.94 1459.58 2321 1455 Q2324.08 1450.39 2329.89 1450.39 Z\" fill=\"#000000\" fill-rule=\"nonzero\" fill-opacity=\"1\" /><path clip-path=\"url(#clip340)\" d=\"M1169.3 1532.4 L1175.16 1532.4 L1175.16 1568.04 L1169.3 1568.04 L1169.3 1532.4 M1169.3 1518.52 L1175.16 1518.52 L1175.16 1525.93 L1169.3 1525.93 L1169.3 1518.52 Z\" fill=\"#000000\" fill-rule=\"nonzero\" fill-opacity=\"1\" /><path clip-path=\"url(#clip340)\" d=\"M1193.2 1522.27 L1193.2 1532.4 L1205.27 1532.4 L1205.27 1536.95 L1193.2 1536.95 L1193.2 1556.3 Q1193.2 1560.66 1194.38 1561.9 Q1195.59 1563.14 1199.25 1563.14 L1205.27 1563.14 L1205.27 1568.04 L1199.25 1568.04 Q1192.47 1568.04 1189.89 1565.53 Q1187.31 1562.98 1187.31 1556.3 L1187.31 1536.95 L1183.02 1536.95 L1183.02 1532.4 L1187.31 1532.4 L1187.31 1522.27 L1193.2 1522.27 Z\" fill=\"#000000\" fill-rule=\"nonzero\" fill-opacity=\"1\" /><path clip-path=\"url(#clip340)\" d=\"M1243.46 1548.76 L1243.46 1551.62 L1216.53 1551.62 Q1216.91 1557.67 1220.16 1560.85 Q1223.44 1564 1229.26 1564 Q1232.64 1564 1235.79 1563.17 Q1238.97 1562.35 1242.09 1560.69 L1242.09 1566.23 Q1238.94 1567.57 1235.63 1568.27 Q1232.32 1568.97 1228.91 1568.97 Q1220.38 1568.97 1215.39 1564 Q1210.42 1559.04 1210.42 1550.57 Q1210.42 1541.82 1215.13 1536.69 Q1219.87 1531.54 1227.9 1531.54 Q1235.09 1531.54 1239.26 1536.18 Q1243.46 1540.8 1243.46 1548.76 M1237.6 1547.04 Q1237.54 1542.23 1234.9 1539.37 Q1232.29 1536.5 1227.96 1536.5 Q1223.06 1536.5 1220.1 1539.27 Q1217.17 1542.04 1216.72 1547.07 L1237.6 1547.04 Z\" fill=\"#000000\" fill-rule=\"nonzero\" fill-opacity=\"1\" /><path clip-path=\"url(#clip340)\" d=\"M1273.73 1537.87 Q1272.74 1537.3 1271.56 1537.04 Q1270.42 1536.76 1269.02 1536.76 Q1264.05 1536.76 1261.38 1540 Q1258.74 1543.22 1258.74 1549.27 L1258.74 1568.04 L1252.85 1568.04 L1252.85 1532.4 L1258.74 1532.4 L1258.74 1537.93 Q1260.58 1534.69 1263.54 1533.13 Q1266.5 1531.54 1270.74 1531.54 Q1271.34 1531.54 1272.07 1531.63 Q1272.81 1531.7 1273.7 1531.85 L1273.73 1537.87 Z\" fill=\"#000000\" fill-rule=\"nonzero\" fill-opacity=\"1\" /><path clip-path=\"url(#clip340)\" d=\"M1296.07 1550.12 Q1288.97 1550.12 1286.24 1551.75 Q1283.5 1553.37 1283.5 1557.29 Q1283.5 1560.4 1285.54 1562.25 Q1287.61 1564.07 1291.14 1564.07 Q1296.01 1564.07 1298.94 1560.63 Q1301.9 1557.16 1301.9 1551.43 L1301.9 1550.12 L1296.07 1550.12 M1307.75 1547.71 L1307.75 1568.04 L1301.9 1568.04 L1301.9 1562.63 Q1299.89 1565.88 1296.9 1567.44 Q1293.91 1568.97 1289.58 1568.97 Q1284.1 1568.97 1280.86 1565.91 Q1277.64 1562.82 1277.64 1557.67 Q1277.64 1551.65 1281.65 1548.6 Q1285.7 1545.54 1293.69 1545.54 L1301.9 1545.54 L1301.9 1544.97 Q1301.9 1540.93 1299.22 1538.73 Q1296.58 1536.5 1291.78 1536.5 Q1288.72 1536.5 1285.82 1537.23 Q1282.93 1537.97 1280.25 1539.43 L1280.25 1534.02 Q1283.47 1532.78 1286.49 1532.17 Q1289.52 1531.54 1292.38 1531.54 Q1300.11 1531.54 1303.93 1535.55 Q1307.75 1539.56 1307.75 1547.71 Z\" fill=\"#000000\" fill-rule=\"nonzero\" fill-opacity=\"1\" /><path clip-path=\"url(#clip340)\" d=\"M1325.61 1522.27 L1325.61 1532.4 L1337.67 1532.4 L1337.67 1536.95 L1325.61 1536.95 L1325.61 1556.3 Q1325.61 1560.66 1326.79 1561.9 Q1328 1563.14 1331.66 1563.14 L1337.67 1563.14 L1337.67 1568.04 L1331.66 1568.04 Q1324.88 1568.04 1322.3 1565.53 Q1319.72 1562.98 1319.72 1556.3 L1319.72 1536.95 L1315.42 1536.95 L1315.42 1532.4 L1319.72 1532.4 L1319.72 1522.27 L1325.61 1522.27 Z\" fill=\"#000000\" fill-rule=\"nonzero\" fill-opacity=\"1\" /><path clip-path=\"url(#clip340)\" d=\"M1345.37 1532.4 L1351.23 1532.4 L1351.23 1568.04 L1345.37 1568.04 L1345.37 1532.4 M1345.37 1518.52 L1351.23 1518.52 L1351.23 1525.93 L1345.37 1525.93 L1345.37 1518.52 Z\" fill=\"#000000\" fill-rule=\"nonzero\" fill-opacity=\"1\" /><path clip-path=\"url(#clip340)\" d=\"M1377.3 1536.5 Q1372.59 1536.5 1369.85 1540.19 Q1367.11 1543.85 1367.11 1550.25 Q1367.11 1556.65 1369.82 1560.34 Q1372.56 1564 1377.3 1564 Q1381.98 1564 1384.71 1560.31 Q1387.45 1556.62 1387.45 1550.25 Q1387.45 1543.92 1384.71 1540.23 Q1381.98 1536.5 1377.3 1536.5 M1377.3 1531.54 Q1384.94 1531.54 1389.3 1536.5 Q1393.66 1541.47 1393.66 1550.25 Q1393.66 1559 1389.3 1564 Q1384.94 1568.97 1377.3 1568.97 Q1369.63 1568.97 1365.27 1564 Q1360.94 1559 1360.94 1550.25 Q1360.94 1541.47 1365.27 1536.5 Q1369.63 1531.54 1377.3 1531.54 Z\" fill=\"#000000\" fill-rule=\"nonzero\" fill-opacity=\"1\" /><path clip-path=\"url(#clip340)\" d=\"M1433 1546.53 L1433 1568.04 L1427.14 1568.04 L1427.14 1546.72 Q1427.14 1541.66 1425.17 1539.14 Q1423.2 1536.63 1419.25 1536.63 Q1414.51 1536.63 1411.77 1539.65 Q1409.03 1542.68 1409.03 1547.9 L1409.03 1568.04 L1403.14 1568.04 L1403.14 1532.4 L1409.03 1532.4 L1409.03 1537.93 Q1411.13 1534.72 1413.97 1533.13 Q1416.83 1531.54 1420.55 1531.54 Q1426.7 1531.54 1429.85 1535.36 Q1433 1539.14 1433 1546.53 Z\" fill=\"#000000\" fill-rule=\"nonzero\" fill-opacity=\"1\" /><polyline clip-path=\"url(#clip342)\" style=\"stroke:#000000; stroke-linecap:round; stroke-linejoin:round; stroke-width:2; stroke-opacity:0.1; fill:none\" points=\"249.542,1384.24 2352.76,1384.24 \"/>\n",
       "<polyline clip-path=\"url(#clip342)\" style=\"stroke:#000000; stroke-linecap:round; stroke-linejoin:round; stroke-width:2; stroke-opacity:0.1; fill:none\" points=\"249.542,1059.73 2352.76,1059.73 \"/>\n",
       "<polyline clip-path=\"url(#clip342)\" style=\"stroke:#000000; stroke-linecap:round; stroke-linejoin:round; stroke-width:2; stroke-opacity:0.1; fill:none\" points=\"249.542,735.212 2352.76,735.212 \"/>\n",
       "<polyline clip-path=\"url(#clip342)\" style=\"stroke:#000000; stroke-linecap:round; stroke-linejoin:round; stroke-width:2; stroke-opacity:0.1; fill:none\" points=\"249.542,410.699 2352.76,410.699 \"/>\n",
       "<polyline clip-path=\"url(#clip342)\" style=\"stroke:#000000; stroke-linecap:round; stroke-linejoin:round; stroke-width:2; stroke-opacity:0.1; fill:none\" points=\"249.542,86.1857 2352.76,86.1857 \"/>\n",
       "<polyline clip-path=\"url(#clip340)\" style=\"stroke:#000000; stroke-linecap:round; stroke-linejoin:round; stroke-width:4; stroke-opacity:1; fill:none\" points=\"249.542,1423.18 249.542,47.2441 \"/>\n",
       "<polyline clip-path=\"url(#clip340)\" style=\"stroke:#000000; stroke-linecap:round; stroke-linejoin:round; stroke-width:4; stroke-opacity:1; fill:none\" points=\"249.542,1384.24 268.44,1384.24 \"/>\n",
       "<polyline clip-path=\"url(#clip340)\" style=\"stroke:#000000; stroke-linecap:round; stroke-linejoin:round; stroke-width:4; stroke-opacity:1; fill:none\" points=\"249.542,1059.73 268.44,1059.73 \"/>\n",
       "<polyline clip-path=\"url(#clip340)\" style=\"stroke:#000000; stroke-linecap:round; stroke-linejoin:round; stroke-width:4; stroke-opacity:1; fill:none\" points=\"249.542,735.212 268.44,735.212 \"/>\n",
       "<polyline clip-path=\"url(#clip340)\" style=\"stroke:#000000; stroke-linecap:round; stroke-linejoin:round; stroke-width:4; stroke-opacity:1; fill:none\" points=\"249.542,410.699 268.44,410.699 \"/>\n",
       "<polyline clip-path=\"url(#clip340)\" style=\"stroke:#000000; stroke-linecap:round; stroke-linejoin:round; stroke-width:4; stroke-opacity:1; fill:none\" points=\"249.542,86.1857 268.44,86.1857 \"/>\n",
       "<path clip-path=\"url(#clip340)\" d=\"M126.205 1370.04 Q122.593 1370.04 120.765 1373.6 Q118.959 1377.14 118.959 1384.27 Q118.959 1391.38 120.765 1394.94 Q122.593 1398.49 126.205 1398.49 Q129.839 1398.49 131.644 1394.94 Q133.473 1391.38 133.473 1384.27 Q133.473 1377.14 131.644 1373.6 Q129.839 1370.04 126.205 1370.04 M126.205 1366.33 Q132.015 1366.33 135.07 1370.94 Q138.149 1375.52 138.149 1384.27 Q138.149 1393 135.07 1397.61 Q132.015 1402.19 126.205 1402.19 Q120.394 1402.19 117.316 1397.61 Q114.26 1393 114.26 1384.27 Q114.26 1375.52 117.316 1370.94 Q120.394 1366.33 126.205 1366.33 Z\" fill=\"#000000\" fill-rule=\"nonzero\" fill-opacity=\"1\" /><path clip-path=\"url(#clip340)\" d=\"M146.366 1395.64 L151.251 1395.64 L151.251 1401.52 L146.366 1401.52 L146.366 1395.64 Z\" fill=\"#000000\" fill-rule=\"nonzero\" fill-opacity=\"1\" /><path clip-path=\"url(#clip340)\" d=\"M171.436 1370.04 Q167.825 1370.04 165.996 1373.6 Q164.19 1377.14 164.19 1384.27 Q164.19 1391.38 165.996 1394.94 Q167.825 1398.49 171.436 1398.49 Q175.07 1398.49 176.876 1394.94 Q178.704 1391.38 178.704 1384.27 Q178.704 1377.14 176.876 1373.6 Q175.07 1370.04 171.436 1370.04 M171.436 1366.33 Q177.246 1366.33 180.301 1370.94 Q183.38 1375.52 183.38 1384.27 Q183.38 1393 180.301 1397.61 Q177.246 1402.19 171.436 1402.19 Q165.626 1402.19 162.547 1397.61 Q159.491 1393 159.491 1384.27 Q159.491 1375.52 162.547 1370.94 Q165.626 1366.33 171.436 1366.33 Z\" fill=\"#000000\" fill-rule=\"nonzero\" fill-opacity=\"1\" /><path clip-path=\"url(#clip340)\" d=\"M201.598 1370.04 Q197.987 1370.04 196.158 1373.6 Q194.352 1377.14 194.352 1384.27 Q194.352 1391.38 196.158 1394.94 Q197.987 1398.49 201.598 1398.49 Q205.232 1398.49 207.037 1394.94 Q208.866 1391.38 208.866 1384.27 Q208.866 1377.14 207.037 1373.6 Q205.232 1370.04 201.598 1370.04 M201.598 1366.33 Q207.408 1366.33 210.463 1370.94 Q213.542 1375.52 213.542 1384.27 Q213.542 1393 210.463 1397.61 Q207.408 1402.19 201.598 1402.19 Q195.787 1402.19 192.709 1397.61 Q189.653 1393 189.653 1384.27 Q189.653 1375.52 192.709 1370.94 Q195.787 1366.33 201.598 1366.33 Z\" fill=\"#000000\" fill-rule=\"nonzero\" fill-opacity=\"1\" /><path clip-path=\"url(#clip340)\" d=\"M127.2 1045.52 Q123.589 1045.52 121.76 1049.09 Q119.955 1052.63 119.955 1059.76 Q119.955 1066.87 121.76 1070.43 Q123.589 1073.97 127.2 1073.97 Q130.834 1073.97 132.64 1070.43 Q134.468 1066.87 134.468 1059.76 Q134.468 1052.63 132.64 1049.09 Q130.834 1045.52 127.2 1045.52 M127.2 1041.82 Q133.01 1041.82 136.066 1046.43 Q139.144 1051.01 139.144 1059.76 Q139.144 1068.49 136.066 1073.09 Q133.01 1077.68 127.2 1077.68 Q121.39 1077.68 118.311 1073.09 Q115.256 1068.49 115.256 1059.76 Q115.256 1051.01 118.311 1046.43 Q121.39 1041.82 127.2 1041.82 Z\" fill=\"#000000\" fill-rule=\"nonzero\" fill-opacity=\"1\" /><path clip-path=\"url(#clip340)\" d=\"M147.362 1071.13 L152.246 1071.13 L152.246 1077.01 L147.362 1077.01 L147.362 1071.13 Z\" fill=\"#000000\" fill-rule=\"nonzero\" fill-opacity=\"1\" /><path clip-path=\"url(#clip340)\" d=\"M166.459 1073.07 L182.778 1073.07 L182.778 1077.01 L160.834 1077.01 L160.834 1073.07 Q163.496 1070.32 168.079 1065.69 Q172.686 1061.03 173.866 1059.69 Q176.112 1057.17 176.991 1055.43 Q177.894 1053.67 177.894 1051.98 Q177.894 1049.23 175.95 1047.49 Q174.028 1045.76 170.927 1045.76 Q168.727 1045.76 166.274 1046.52 Q163.843 1047.28 161.065 1048.83 L161.065 1044.11 Q163.89 1042.98 166.343 1042.4 Q168.797 1041.82 170.834 1041.82 Q176.204 1041.82 179.399 1044.51 Q182.593 1047.19 182.593 1051.68 Q182.593 1053.81 181.783 1055.73 Q180.996 1057.63 178.889 1060.22 Q178.311 1060.89 175.209 1064.11 Q172.107 1067.31 166.459 1073.07 Z\" fill=\"#000000\" fill-rule=\"nonzero\" fill-opacity=\"1\" /><path clip-path=\"url(#clip340)\" d=\"M192.639 1042.45 L210.996 1042.45 L210.996 1046.38 L196.922 1046.38 L196.922 1054.85 Q197.94 1054.51 198.959 1054.34 Q199.977 1054.16 200.996 1054.16 Q206.783 1054.16 210.162 1057.33 Q213.542 1060.5 213.542 1065.92 Q213.542 1071.5 210.07 1074.6 Q206.598 1077.68 200.278 1077.68 Q198.102 1077.68 195.834 1077.31 Q193.588 1076.94 191.181 1076.19 L191.181 1071.5 Q193.264 1072.63 195.487 1073.19 Q197.709 1073.74 200.186 1073.74 Q204.19 1073.74 206.528 1071.63 Q208.866 1069.53 208.866 1065.92 Q208.866 1062.31 206.528 1060.2 Q204.19 1058.09 200.186 1058.09 Q198.311 1058.09 196.436 1058.51 Q194.584 1058.93 192.639 1059.81 L192.639 1042.45 Z\" fill=\"#000000\" fill-rule=\"nonzero\" fill-opacity=\"1\" /><path clip-path=\"url(#clip340)\" d=\"M126.205 721.011 Q122.593 721.011 120.765 724.575 Q118.959 728.117 118.959 735.247 Q118.959 742.353 120.765 745.918 Q122.593 749.46 126.205 749.46 Q129.839 749.46 131.644 745.918 Q133.473 742.353 133.473 735.247 Q133.473 728.117 131.644 724.575 Q129.839 721.011 126.205 721.011 M126.205 717.307 Q132.015 717.307 135.07 721.913 Q138.149 726.497 138.149 735.247 Q138.149 743.973 135.07 748.58 Q132.015 753.163 126.205 753.163 Q120.394 753.163 117.316 748.58 Q114.26 743.973 114.26 735.247 Q114.26 726.497 117.316 721.913 Q120.394 717.307 126.205 717.307 Z\" fill=\"#000000\" fill-rule=\"nonzero\" fill-opacity=\"1\" /><path clip-path=\"url(#clip340)\" d=\"M146.366 746.612 L151.251 746.612 L151.251 752.492 L146.366 752.492 L146.366 746.612 Z\" fill=\"#000000\" fill-rule=\"nonzero\" fill-opacity=\"1\" /><path clip-path=\"url(#clip340)\" d=\"M161.482 717.932 L179.839 717.932 L179.839 721.867 L165.765 721.867 L165.765 730.339 Q166.783 729.992 167.802 729.83 Q168.82 729.645 169.839 729.645 Q175.626 729.645 179.005 732.816 Q182.385 735.987 182.385 741.404 Q182.385 746.983 178.913 750.085 Q175.44 753.163 169.121 753.163 Q166.945 753.163 164.677 752.793 Q162.431 752.423 160.024 751.682 L160.024 746.983 Q162.107 748.117 164.329 748.673 Q166.552 749.228 169.028 749.228 Q173.033 749.228 175.371 747.122 Q177.709 745.015 177.709 741.404 Q177.709 737.793 175.371 735.687 Q173.033 733.58 169.028 733.58 Q167.153 733.58 165.278 733.997 Q163.427 734.413 161.482 735.293 L161.482 717.932 Z\" fill=\"#000000\" fill-rule=\"nonzero\" fill-opacity=\"1\" /><path clip-path=\"url(#clip340)\" d=\"M201.598 721.011 Q197.987 721.011 196.158 724.575 Q194.352 728.117 194.352 735.247 Q194.352 742.353 196.158 745.918 Q197.987 749.46 201.598 749.46 Q205.232 749.46 207.037 745.918 Q208.866 742.353 208.866 735.247 Q208.866 728.117 207.037 724.575 Q205.232 721.011 201.598 721.011 M201.598 717.307 Q207.408 717.307 210.463 721.913 Q213.542 726.497 213.542 735.247 Q213.542 743.973 210.463 748.58 Q207.408 753.163 201.598 753.163 Q195.787 753.163 192.709 748.58 Q189.653 743.973 189.653 735.247 Q189.653 726.497 192.709 721.913 Q195.787 717.307 201.598 717.307 Z\" fill=\"#000000\" fill-rule=\"nonzero\" fill-opacity=\"1\" /><path clip-path=\"url(#clip340)\" d=\"M127.2 396.498 Q123.589 396.498 121.76 400.062 Q119.955 403.604 119.955 410.734 Q119.955 417.84 121.76 421.405 Q123.589 424.946 127.2 424.946 Q130.834 424.946 132.64 421.405 Q134.468 417.84 134.468 410.734 Q134.468 403.604 132.64 400.062 Q130.834 396.498 127.2 396.498 M127.2 392.794 Q133.01 392.794 136.066 397.4 Q139.144 401.984 139.144 410.734 Q139.144 419.46 136.066 424.067 Q133.01 428.65 127.2 428.65 Q121.39 428.65 118.311 424.067 Q115.256 419.46 115.256 410.734 Q115.256 401.984 118.311 397.4 Q121.39 392.794 127.2 392.794 Z\" fill=\"#000000\" fill-rule=\"nonzero\" fill-opacity=\"1\" /><path clip-path=\"url(#clip340)\" d=\"M147.362 422.099 L152.246 422.099 L152.246 427.979 L147.362 427.979 L147.362 422.099 Z\" fill=\"#000000\" fill-rule=\"nonzero\" fill-opacity=\"1\" /><path clip-path=\"url(#clip340)\" d=\"M161.251 393.419 L183.473 393.419 L183.473 395.41 L170.927 427.979 L166.042 427.979 L177.848 397.354 L161.251 397.354 L161.251 393.419 Z\" fill=\"#000000\" fill-rule=\"nonzero\" fill-opacity=\"1\" /><path clip-path=\"url(#clip340)\" d=\"M192.639 393.419 L210.996 393.419 L210.996 397.354 L196.922 397.354 L196.922 405.826 Q197.94 405.479 198.959 405.317 Q199.977 405.132 200.996 405.132 Q206.783 405.132 210.162 408.303 Q213.542 411.474 213.542 416.891 Q213.542 422.47 210.07 425.571 Q206.598 428.65 200.278 428.65 Q198.102 428.65 195.834 428.28 Q193.588 427.909 191.181 427.169 L191.181 422.47 Q193.264 423.604 195.487 424.159 Q197.709 424.715 200.186 424.715 Q204.19 424.715 206.528 422.608 Q208.866 420.502 208.866 416.891 Q208.866 413.28 206.528 411.173 Q204.19 409.067 200.186 409.067 Q198.311 409.067 196.436 409.484 Q194.584 409.9 192.639 410.78 L192.639 393.419 Z\" fill=\"#000000\" fill-rule=\"nonzero\" fill-opacity=\"1\" /><path clip-path=\"url(#clip340)\" d=\"M117.015 99.5305 L124.654 99.5305 L124.654 73.1649 L116.343 74.8316 L116.343 70.5723 L124.607 68.9057 L129.283 68.9057 L129.283 99.5305 L136.922 99.5305 L136.922 103.466 L117.015 103.466 L117.015 99.5305 Z\" fill=\"#000000\" fill-rule=\"nonzero\" fill-opacity=\"1\" /><path clip-path=\"url(#clip340)\" d=\"M146.366 97.5861 L151.251 97.5861 L151.251 103.466 L146.366 103.466 L146.366 97.5861 Z\" fill=\"#000000\" fill-rule=\"nonzero\" fill-opacity=\"1\" /><path clip-path=\"url(#clip340)\" d=\"M171.436 71.9844 Q167.825 71.9844 165.996 75.5492 Q164.19 79.0908 164.19 86.2204 Q164.19 93.3268 165.996 96.8916 Q167.825 100.433 171.436 100.433 Q175.07 100.433 176.876 96.8916 Q178.704 93.3268 178.704 86.2204 Q178.704 79.0908 176.876 75.5492 Q175.07 71.9844 171.436 71.9844 M171.436 68.2807 Q177.246 68.2807 180.301 72.8871 Q183.38 77.4704 183.38 86.2204 Q183.38 94.9472 180.301 99.5537 Q177.246 104.137 171.436 104.137 Q165.626 104.137 162.547 99.5537 Q159.491 94.9472 159.491 86.2204 Q159.491 77.4704 162.547 72.8871 Q165.626 68.2807 171.436 68.2807 Z\" fill=\"#000000\" fill-rule=\"nonzero\" fill-opacity=\"1\" /><path clip-path=\"url(#clip340)\" d=\"M201.598 71.9844 Q197.987 71.9844 196.158 75.5492 Q194.352 79.0908 194.352 86.2204 Q194.352 93.3268 196.158 96.8916 Q197.987 100.433 201.598 100.433 Q205.232 100.433 207.037 96.8916 Q208.866 93.3268 208.866 86.2204 Q208.866 79.0908 207.037 75.5492 Q205.232 71.9844 201.598 71.9844 M201.598 68.2807 Q207.408 68.2807 210.463 72.8871 Q213.542 77.4704 213.542 86.2204 Q213.542 94.9472 210.463 99.5537 Q207.408 104.137 201.598 104.137 Q195.787 104.137 192.709 99.5537 Q189.653 94.9472 189.653 86.2204 Q189.653 77.4704 192.709 72.8871 Q195.787 68.2807 201.598 68.2807 Z\" fill=\"#000000\" fill-rule=\"nonzero\" fill-opacity=\"1\" /><path clip-path=\"url(#clip340)\" d=\"M18.0438 1016.77 L24.314 1016.77 Q22.5634 1020.43 21.704 1023.67 Q20.8447 1026.92 20.8447 1029.94 Q20.8447 1035.2 22.8817 1038.06 Q24.9187 1040.89 28.6745 1040.89 Q31.8255 1040.89 33.4488 1039.02 Q35.0402 1037.11 36.0269 1031.82 L36.8226 1027.94 Q38.1912 1020.75 41.6605 1017.34 Q45.098 1013.9 50.8908 1013.9 Q57.7976 1013.9 61.3624 1018.55 Q64.9272 1023.16 64.9272 1032.11 Q64.9272 1035.48 64.1633 1039.3 Q63.3994 1043.09 61.9035 1047.16 L55.2831 1047.16 Q57.4793 1043.25 58.5933 1039.49 Q59.7073 1035.74 59.7073 1032.11 Q59.7073 1026.6 57.543 1023.61 Q55.3786 1020.62 51.3682 1020.62 Q47.8671 1020.62 45.8937 1022.78 Q43.9204 1024.92 42.9337 1029.82 L42.1698 1033.73 Q40.7375 1040.93 37.682 1044.14 Q34.6264 1047.35 29.1837 1047.35 Q22.8817 1047.35 19.2532 1042.93 Q15.6248 1038.47 15.6248 1030.68 Q15.6248 1027.33 16.2295 1023.86 Q16.8343 1020.4 18.0438 1016.77 Z\" fill=\"#000000\" fill-rule=\"nonzero\" fill-opacity=\"1\" /><path clip-path=\"url(#clip340)\" d=\"M35.1993 976.377 Q31.2526 974.181 29.3747 971.125 Q27.4968 968.07 27.4968 963.932 Q27.4968 958.362 31.4117 955.338 Q35.2948 952.314 42.4881 952.314 L64.0042 952.314 L64.0042 958.203 L42.679 958.203 Q37.5546 958.203 35.072 960.017 Q32.5894 961.831 32.5894 965.555 Q32.5894 970.107 35.6131 972.748 Q38.6368 975.39 43.8567 975.39 L64.0042 975.39 L64.0042 981.278 L42.679 981.278 Q37.5228 981.278 35.072 983.093 Q32.5894 984.907 32.5894 988.694 Q32.5894 993.182 35.6449 995.824 Q38.6686 998.466 43.8567 998.466 L64.0042 998.466 L64.0042 1004.35 L28.3562 1004.35 L28.3562 998.466 L33.8944 998.466 Q30.616 996.461 29.0564 993.66 Q27.4968 990.859 27.4968 987.007 Q27.4968 983.124 29.4702 980.419 Q31.4436 977.682 35.1993 976.377 Z\" fill=\"#000000\" fill-rule=\"nonzero\" fill-opacity=\"1\" /><path clip-path=\"url(#clip340)\" d=\"M32.4621 926.82 Q32.4621 931.53 36.1542 934.268 Q39.8145 937.005 46.212 937.005 Q52.6095 937.005 56.3017 934.299 Q59.9619 931.562 59.9619 926.82 Q59.9619 922.141 56.2698 919.404 Q52.5777 916.666 46.212 916.666 Q39.8781 916.666 36.186 919.404 Q32.4621 922.141 32.4621 926.82 M27.4968 926.82 Q27.4968 919.181 32.4621 914.82 Q37.4273 910.46 46.212 910.46 Q54.9649 910.46 59.9619 914.82 Q64.9272 919.181 64.9272 926.82 Q64.9272 934.49 59.9619 938.851 Q54.9649 943.18 46.212 943.18 Q37.4273 943.18 32.4621 938.851 Q27.4968 934.49 27.4968 926.82 Z\" fill=\"#000000\" fill-rule=\"nonzero\" fill-opacity=\"1\" /><path clip-path=\"url(#clip340)\" d=\"M32.4621 886.939 Q32.4621 891.649 36.1542 894.386 Q39.8145 897.124 46.212 897.124 Q52.6095 897.124 56.3017 894.418 Q59.9619 891.681 59.9619 886.939 Q59.9619 882.26 56.2698 879.523 Q52.5777 876.785 46.212 876.785 Q39.8781 876.785 36.186 879.523 Q32.4621 882.26 32.4621 886.939 M27.4968 886.939 Q27.4968 879.3 32.4621 874.939 Q37.4273 870.579 46.212 870.579 Q54.9649 870.579 59.9619 874.939 Q64.9272 879.3 64.9272 886.939 Q64.9272 894.609 59.9619 898.97 Q54.9649 903.298 46.212 903.298 Q37.4273 903.298 32.4621 898.97 Q27.4968 894.609 27.4968 886.939 Z\" fill=\"#000000\" fill-rule=\"nonzero\" fill-opacity=\"1\" /><path clip-path=\"url(#clip340)\" d=\"M18.2347 855.078 L28.3562 855.078 L28.3562 843.015 L32.9077 843.015 L32.9077 855.078 L52.2594 855.078 Q56.6199 855.078 57.8613 853.901 Q59.1026 852.691 59.1026 849.031 L59.1026 843.015 L64.0042 843.015 L64.0042 849.031 Q64.0042 855.81 61.4897 858.388 Q58.9434 860.967 52.2594 860.967 L32.9077 860.967 L32.9077 865.263 L28.3562 865.263 L28.3562 860.967 L18.2347 860.967 L18.2347 855.078 Z\" fill=\"#000000\" fill-rule=\"nonzero\" fill-opacity=\"1\" /><path clip-path=\"url(#clip340)\" d=\"M42.4881 805.68 L64.0042 805.68 L64.0042 811.537 L42.679 811.537 Q37.6183 811.537 35.1038 813.51 Q32.5894 815.484 32.5894 819.43 Q32.5894 824.173 35.6131 826.91 Q38.6368 829.647 43.8567 829.647 L64.0042 829.647 L64.0042 835.536 L14.479 835.536 L14.479 829.647 L33.8944 829.647 Q30.6797 827.547 29.0883 824.714 Q27.4968 821.849 27.4968 818.125 Q27.4968 811.982 31.3163 808.831 Q35.1038 805.68 42.4881 805.68 Z\" fill=\"#000000\" fill-rule=\"nonzero\" fill-opacity=\"1\" /><path clip-path=\"url(#clip340)\" d=\"M44.7161 763.508 L47.5806 763.508 L47.5806 790.434 Q53.6281 790.053 56.8109 786.806 Q59.9619 783.528 59.9619 777.703 Q59.9619 774.329 59.1344 771.178 Q58.3069 767.995 56.6518 764.876 L62.1899 764.876 Q63.5267 768.027 64.227 771.337 Q64.9272 774.648 64.9272 778.053 Q64.9272 786.583 59.9619 791.58 Q54.9967 796.546 46.5303 796.546 Q37.7774 796.546 32.6531 791.835 Q27.4968 787.092 27.4968 779.072 Q27.4968 771.878 32.1438 767.709 Q36.7589 763.508 44.7161 763.508 M42.9973 769.364 Q38.1912 769.428 35.3266 772.069 Q32.4621 774.679 32.4621 779.008 Q32.4621 783.91 35.2312 786.87 Q38.0002 789.798 43.0292 790.244 L42.9973 769.364 Z\" fill=\"#000000\" fill-rule=\"nonzero\" fill-opacity=\"1\" /><path clip-path=\"url(#clip340)\" d=\"M33.7671 730.438 L14.479 730.438 L14.479 724.581 L64.0042 724.581 L64.0042 730.438 L58.657 730.438 Q61.8398 732.284 63.3994 735.116 Q64.9272 737.917 64.9272 741.864 Q64.9272 748.325 59.771 752.399 Q54.6147 756.442 46.212 756.442 Q37.8093 756.442 32.6531 752.399 Q27.4968 748.325 27.4968 741.864 Q27.4968 737.917 29.0564 735.116 Q30.5842 732.284 33.7671 730.438 M46.212 750.394 Q52.6732 750.394 56.3653 747.752 Q60.0256 745.079 60.0256 740.432 Q60.0256 735.785 56.3653 733.111 Q52.6732 730.438 46.212 730.438 Q39.7508 730.438 36.0905 733.111 Q32.3984 735.785 32.3984 740.432 Q32.3984 745.079 36.0905 747.752 Q39.7508 750.394 46.212 750.394 Z\" fill=\"#000000\" fill-rule=\"nonzero\" fill-opacity=\"1\" /><path clip-path=\"url(#clip340)\" d=\"M21.7677 685.114 L39.6235 685.114 L39.6235 677.029 Q39.6235 672.542 37.3 670.091 Q34.9765 667.64 30.6797 667.64 Q26.4147 667.64 24.0912 670.091 Q21.7677 672.542 21.7677 677.029 L21.7677 685.114 M16.4842 691.543 L16.4842 677.029 Q16.4842 669.04 20.1126 664.966 Q23.7092 660.861 30.6797 660.861 Q37.7138 660.861 41.3104 664.966 Q44.907 669.04 44.907 677.029 L44.907 685.114 L64.0042 685.114 L64.0042 691.543 L16.4842 691.543 Z\" fill=\"#000000\" fill-rule=\"nonzero\" fill-opacity=\"1\" /><path clip-path=\"url(#clip340)\" d=\"M33.8307 632.979 Q33.2578 633.965 33.0032 635.143 Q32.7167 636.289 32.7167 637.689 Q32.7167 642.655 35.9632 645.328 Q39.1779 647.97 45.2253 647.97 L64.0042 647.97 L64.0042 653.858 L28.3562 653.858 L28.3562 647.97 L33.8944 647.97 Q30.6479 646.124 29.0883 643.164 Q27.4968 640.204 27.4968 635.971 Q27.4968 635.366 27.5923 634.634 Q27.656 633.902 27.8151 633.011 L33.8307 632.979 Z\" fill=\"#000000\" fill-rule=\"nonzero\" fill-opacity=\"1\" /><path clip-path=\"url(#clip340)\" d=\"M44.7161 597.776 L47.5806 597.776 L47.5806 624.703 Q53.6281 624.321 56.8109 621.075 Q59.9619 617.797 59.9619 611.972 Q59.9619 608.598 59.1344 605.447 Q58.3069 602.264 56.6518 599.145 L62.1899 599.145 Q63.5267 602.296 64.227 605.606 Q64.9272 608.916 64.9272 612.322 Q64.9272 620.852 59.9619 625.849 Q54.9967 630.814 46.5303 630.814 Q37.7774 630.814 32.6531 626.104 Q27.4968 621.361 27.4968 613.341 Q27.4968 606.147 32.1438 601.978 Q36.7589 597.776 44.7161 597.776 M42.9973 603.633 Q38.1912 603.696 35.3266 606.338 Q32.4621 608.948 32.4621 613.277 Q32.4621 618.178 35.2312 621.139 Q38.0002 624.067 43.0292 624.512 L42.9973 603.633 Z\" fill=\"#000000\" fill-rule=\"nonzero\" fill-opacity=\"1\" /><path clip-path=\"url(#clip340)\" d=\"M29.4065 565.439 L34.9447 565.439 Q33.6716 567.921 33.035 570.595 Q32.3984 573.268 32.3984 576.133 Q32.3984 580.493 33.7352 582.69 Q35.072 584.854 37.7456 584.854 Q39.7826 584.854 40.9603 583.294 Q42.1061 581.735 43.1565 577.024 L43.6021 575.019 Q44.9389 568.781 47.3897 566.171 Q49.8086 563.529 54.1691 563.529 Q59.1344 563.529 62.0308 567.476 Q64.9272 571.391 64.9272 578.265 Q64.9272 581.13 64.3543 584.249 Q63.8132 587.337 62.6992 590.774 L56.6518 590.774 Q58.3387 587.528 59.198 584.377 Q60.0256 581.226 60.0256 578.138 Q60.0256 574 58.6251 571.772 Q57.1929 569.544 54.6147 569.544 Q52.2276 569.544 50.9545 571.168 Q49.6813 572.759 48.5037 578.202 L48.0262 580.239 Q46.8804 585.682 44.5251 588.1 Q42.138 590.519 38.0002 590.519 Q32.9713 590.519 30.2341 586.955 Q27.4968 583.39 27.4968 576.833 Q27.4968 573.587 27.9743 570.722 Q28.4517 567.858 29.4065 565.439 Z\" fill=\"#000000\" fill-rule=\"nonzero\" fill-opacity=\"1\" /><path clip-path=\"url(#clip340)\" d=\"M29.4065 531.478 L34.9447 531.478 Q33.6716 533.96 33.035 536.634 Q32.3984 539.307 32.3984 542.172 Q32.3984 546.532 33.7352 548.729 Q35.072 550.893 37.7456 550.893 Q39.7826 550.893 40.9603 549.333 Q42.1061 547.774 43.1565 543.063 L43.6021 541.058 Q44.9389 534.82 47.3897 532.21 Q49.8086 529.568 54.1691 529.568 Q59.1344 529.568 62.0308 533.515 Q64.9272 537.429 64.9272 544.304 Q64.9272 547.169 64.3543 550.288 Q63.8132 553.376 62.6992 556.813 L56.6518 556.813 Q58.3387 553.567 59.198 550.416 Q60.0256 547.264 60.0256 544.177 Q60.0256 540.039 58.6251 537.811 Q57.1929 535.583 54.6147 535.583 Q52.2276 535.583 50.9545 537.207 Q49.6813 538.798 48.5037 544.241 L48.0262 546.278 Q46.8804 551.72 44.5251 554.139 Q42.138 556.558 38.0002 556.558 Q32.9713 556.558 30.2341 552.994 Q27.4968 549.429 27.4968 542.872 Q27.4968 539.626 27.9743 536.761 Q28.4517 533.896 29.4065 531.478 Z\" fill=\"#000000\" fill-rule=\"nonzero\" fill-opacity=\"1\" /><path clip-path=\"url(#clip340)\" d=\"M49.9359 520.847 L28.3562 520.847 L28.3562 514.99 L49.7131 514.99 Q54.7739 514.99 57.3202 513.017 Q59.8346 511.044 59.8346 507.097 Q59.8346 502.354 56.8109 499.617 Q53.7872 496.848 48.5673 496.848 L28.3562 496.848 L28.3562 490.992 L64.0042 490.992 L64.0042 496.848 L58.5296 496.848 Q61.7762 498.981 63.3676 501.813 Q64.9272 504.614 64.9272 508.338 Q64.9272 514.481 61.1078 517.664 Q57.2883 520.847 49.9359 520.847 M27.4968 506.11 L27.4968 506.11 Z\" fill=\"#000000\" fill-rule=\"nonzero\" fill-opacity=\"1\" /><path clip-path=\"url(#clip340)\" d=\"M33.8307 458.272 Q33.2578 459.259 33.0032 460.436 Q32.7167 461.582 32.7167 462.983 Q32.7167 467.948 35.9632 470.621 Q39.1779 473.263 45.2253 473.263 L64.0042 473.263 L64.0042 479.151 L28.3562 479.151 L28.3562 473.263 L33.8944 473.263 Q30.6479 471.417 29.0883 468.457 Q27.4968 465.497 27.4968 461.264 Q27.4968 460.659 27.5923 459.927 Q27.656 459.195 27.8151 458.304 L33.8307 458.272 Z\" fill=\"#000000\" fill-rule=\"nonzero\" fill-opacity=\"1\" /><path clip-path=\"url(#clip340)\" d=\"M44.7161 423.07 L47.5806 423.07 L47.5806 449.996 Q53.6281 449.615 56.8109 446.368 Q59.9619 443.09 59.9619 437.265 Q59.9619 433.891 59.1344 430.74 Q58.3069 427.557 56.6518 424.438 L62.1899 424.438 Q63.5267 427.589 64.227 430.899 Q64.9272 434.21 64.9272 437.615 Q64.9272 446.145 59.9619 451.142 Q54.9967 456.108 46.5303 456.108 Q37.7774 456.108 32.6531 451.397 Q27.4968 446.654 27.4968 438.634 Q27.4968 431.44 32.1438 427.271 Q36.7589 423.07 44.7161 423.07 M42.9973 428.926 Q38.1912 428.99 35.3266 431.631 Q32.4621 434.241 32.4621 438.57 Q32.4621 443.472 35.2312 446.432 Q38.0002 449.36 43.0292 449.806 L42.9973 428.926 Z\" fill=\"#000000\" fill-rule=\"nonzero\" fill-opacity=\"1\" /></svg>\n"
      ]
     },
     "metadata": {},
     "output_type": "display_data"
    }
   ],
   "source": [
    "p = Plots.plot(P, legend=false, xlabel=\"iteration\", ylabel=\"Smoothed Pressure\")\n",
    "p4b=p\n",
    "#plot_save(p)\n",
    "display(p)"
   ]
  },
  {
   "cell_type": "code",
   "execution_count": null,
   "metadata": {},
   "outputs": [],
   "source": []
  },
  {
   "cell_type": "code",
   "execution_count": 278,
   "metadata": {},
   "outputs": [
    {
     "ename": "LoadError",
     "evalue": "UndefVarError: `p3b` not defined",
     "output_type": "error",
     "traceback": [
      "UndefVarError: `p3b` not defined",
      "",
      "Stacktrace:",
      " [1] top-level scope",
      "   @ In[278]:1"
     ]
    }
   ],
   "source": [
    "p = Plots.plot(p3b,p4b, layout=grid(1,2), size=(800,400) , margin=2mm )\n",
    "\n",
    "plot_save(p)\n",
    "display(p)"
   ]
  },
  {
   "cell_type": "code",
   "execution_count": null,
   "metadata": {},
   "outputs": [],
   "source": []
  },
  {
   "cell_type": "code",
   "execution_count": null,
   "metadata": {},
   "outputs": [],
   "source": []
  },
  {
   "cell_type": "code",
   "execution_count": null,
   "metadata": {},
   "outputs": [],
   "source": []
  },
  {
   "cell_type": "code",
   "execution_count": 279,
   "metadata": {},
   "outputs": [
    {
     "ename": "LoadError",
     "evalue": "UndefVarError: `model_df` not defined",
     "output_type": "error",
     "traceback": [
      "UndefVarError: `model_df` not defined",
      "",
      "Stacktrace:",
      " [1] top-level scope",
      "   @ In[279]:1"
     ]
    }
   ],
   "source": [
    "Plots.plot( model_df[ :, :Model_Ensemble_Energy], title=\"Energy\" )"
   ]
  },
  {
   "cell_type": "code",
   "execution_count": 280,
   "metadata": {},
   "outputs": [
    {
     "ename": "LoadError",
     "evalue": "UndefVarError: `model_df` not defined",
     "output_type": "error",
     "traceback": [
      "UndefVarError: `model_df` not defined",
      "",
      "Stacktrace:",
      " [1] top-level scope",
      "   @ In[280]:1"
     ]
    }
   ],
   "source": [
    "S_vals = model_df[ :, :Model_Thermo_State] .|> x -> x[\"S\"]\n",
    "Plots.plot( S_vals, title=\"Entropies\" )"
   ]
  },
  {
   "cell_type": "code",
   "execution_count": 281,
   "metadata": {},
   "outputs": [
    {
     "ename": "LoadError",
     "evalue": "UndefVarError: `model_df` not defined",
     "output_type": "error",
     "traceback": [
      "UndefVarError: `model_df` not defined",
      "",
      "Stacktrace:",
      " [1] top-level scope",
      "   @ In[281]:1"
     ]
    }
   ],
   "source": [
    "T_vals = model_df[ :, :Model_Thermo_State] .|> x -> x[\"T\"]\n",
    "Plots.plot( T_vals, title=\"Temperatures\" )"
   ]
  },
  {
   "cell_type": "code",
   "execution_count": 282,
   "metadata": {},
   "outputs": [
    {
     "ename": "LoadError",
     "evalue": "UndefVarError: `model_df` not defined",
     "output_type": "error",
     "traceback": [
      "UndefVarError: `model_df` not defined",
      "",
      "Stacktrace:",
      " [1] top-level scope",
      "   @ In[282]:1"
     ]
    }
   ],
   "source": [
    "dQ_vals = model_df[ :, :Model_Thermo_State] .|> x -> x[\"dQ\"]\n",
    "Plots.plot( dQ_vals, title=\"dQ\" )"
   ]
  },
  {
   "cell_type": "code",
   "execution_count": null,
   "metadata": {},
   "outputs": [],
   "source": []
  },
  {
   "cell_type": "code",
   "execution_count": 283,
   "metadata": {},
   "outputs": [
    {
     "ename": "LoadError",
     "evalue": "UndefVarError: `model_df` not defined",
     "output_type": "error",
     "traceback": [
      "UndefVarError: `model_df` not defined",
      "",
      "Stacktrace:",
      " [1] top-level scope",
      "   @ In[283]:1"
     ]
    }
   ],
   "source": [
    "p = model_df[ 1, :Flock_Model_State]\n",
    "save(\"stateIter0.pdf\", p)\n",
    "display(p)"
   ]
  },
  {
   "cell_type": "code",
   "execution_count": 284,
   "metadata": {},
   "outputs": [
    {
     "ename": "LoadError",
     "evalue": "UndefVarError: `model_df` not defined",
     "output_type": "error",
     "traceback": [
      "UndefVarError: `model_df` not defined",
      "",
      "Stacktrace:",
      " [1] top-level scope",
      "   @ In[284]:1"
     ]
    }
   ],
   "source": [
    "p = model_df[ 5+1, :Flock_Model_State]\n",
    "save(\"stateIter5.pdf\", p)\n",
    "display(p)"
   ]
  },
  {
   "cell_type": "code",
   "execution_count": 285,
   "metadata": {},
   "outputs": [
    {
     "ename": "LoadError",
     "evalue": "UndefVarError: `model_df` not defined",
     "output_type": "error",
     "traceback": [
      "UndefVarError: `model_df` not defined",
      "",
      "Stacktrace:",
      " [1] top-level scope",
      "   @ In[285]:1"
     ]
    }
   ],
   "source": [
    "p = model_df[ 95+1, :Flock_Model_State]\n",
    "save(\"stateIter95.pdf\", p)\n",
    "display(p)"
   ]
  },
  {
   "cell_type": "code",
   "execution_count": null,
   "metadata": {},
   "outputs": [],
   "source": []
  },
  {
   "cell_type": "code",
   "execution_count": null,
   "metadata": {},
   "outputs": [],
   "source": []
  }
 ],
 "metadata": {
  "kernelspec": {
   "display_name": "Julia 1.9.3",
   "language": "julia",
   "name": "julia-1.9"
  },
  "language_info": {
   "file_extension": ".jl",
   "mimetype": "application/julia",
   "name": "julia",
   "version": "1.9.3"
  }
 },
 "nbformat": 4,
 "nbformat_minor": 4
}
